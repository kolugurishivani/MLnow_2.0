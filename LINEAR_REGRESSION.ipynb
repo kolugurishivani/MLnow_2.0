{
  "nbformat": 4,
  "nbformat_minor": 0,
  "metadata": {
    "colab": {
      "name": "LINEAR REGRESSION",
      "provenance": [],
      "authorship_tag": "ABX9TyPOfPpDrGpUNndPd6heAeDF",
      "include_colab_link": true
    },
    "kernelspec": {
      "name": "python3",
      "display_name": "Python 3"
    },
    "language_info": {
      "name": "python"
    }
  },
  "cells": [
    {
      "cell_type": "markdown",
      "metadata": {
        "id": "view-in-github",
        "colab_type": "text"
      },
      "source": [
        "<a href=\"https://colab.research.google.com/github/kolugurishivani/MLnow_2.0/blob/main/LINEAR_REGRESSION.ipynb\" target=\"_parent\"><img src=\"https://colab.research.google.com/assets/colab-badge.svg\" alt=\"Open In Colab\"/></a>"
      ]
    },
    {
      "cell_type": "markdown",
      "metadata": {
        "id": "PqwILMr7KOts"
      },
      "source": [
        "This is the project based on linear regression \n",
        "we are going to predict the medical insurance cost of individuals using v\n",
        "\n",
        "---\n",
        "\n"
      ]
    },
    {
      "cell_type": "markdown",
      "metadata": {
        "id": "q_569ugy6lyY"
      },
      "source": [
        "this is the first assignment gib=ven to us in this course \n",
        "\n",
        "\n",
        "`Univariate Linear Regression`\n",
        "\n",
        "\n",
        "**Date Created**: June 11, 2021\n",
        "\n",
        "\n",
        "**student**:\n",
        " Shivani koluguri-\n",
        " **1st year**\n",
        "\n",
        "link to get the dataset:https://drive.google.com/file/d/162XQUmZHXgLQF4OP6jg5JJ3-2C8LZeUL/view?usp=sharing\n"
      ]
    },
    {
      "cell_type": "markdown",
      "metadata": {
        "id": "SqCZZRXzNhL0"
      },
      "source": [
        "overview about this dataset :this data set consist of seven columns that are age ,children,gender,wether he has smoking habit or not,region,charges"
      ]
    },
    {
      "cell_type": "markdown",
      "metadata": {
        "id": "N9Jc1oyhOjWy"
      },
      "source": [
        "BASIC NEEDS BEFORE STARTING\n"
      ]
    },
    {
      "cell_type": "code",
      "metadata": {
        "colab": {
          "base_uri": "https://localhost:8080/"
        },
        "id": "mgBRE_bdOsIi",
        "outputId": "4c377d97-1825-4311-88c3-ac45a20caa92"
      },
      "source": [
        "from google.colab import drive\n",
        "drive.mount('/content/drive')"
      ],
      "execution_count": 8,
      "outputs": [
        {
          "output_type": "stream",
          "text": [
            "Drive already mounted at /content/drive; to attempt to forcibly remount, call drive.mount(\"/content/drive\", force_remount=True).\n"
          ],
          "name": "stdout"
        }
      ]
    },
    {
      "cell_type": "markdown",
      "metadata": {
        "id": "1du_vjIMRZGu"
      },
      "source": [
        "IMPORTING LIBRARIES"
      ]
    },
    {
      "cell_type": "code",
      "metadata": {
        "id": "UZENTK8tNaGX"
      },
      "source": [
        "import warnings\n",
        "import numpy as np\n",
        "import pandas as pd\n",
        "import matplotlib.pyplot as plt\n",
        "import sklearn.linear_model as lin\n",
        "from sklearn.model_selection import train_test_split\n",
        "from sklearn import preprocessing\n",
        "from sklearn import metrics"
      ],
      "execution_count": 54,
      "outputs": []
    },
    {
      "cell_type": "code",
      "metadata": {
        "id": "ZsuiPRc5Y7HJ"
      },
      "source": [
        "import tensorflow as tf #framework\n",
        "from tensorflow import keras #API / library \n",
        "import os #using os commands between the python language"
      ],
      "execution_count": 53,
      "outputs": []
    },
    {
      "cell_type": "code",
      "metadata": {
        "id": "WTYsUwtTOnZa"
      },
      "source": [
        "warnings.filterwarnings('ignore')"
      ],
      "execution_count": 13,
      "outputs": []
    },
    {
      "cell_type": "markdown",
      "metadata": {
        "id": "kSRLRnqZM62k"
      },
      "source": [
        "GETTING THE DATASET FROM THE DRIVE\n",
        "THE FILE IS THE FORM OF CSV"
      ]
    },
    {
      "cell_type": "code",
      "metadata": {
        "colab": {
          "base_uri": "https://localhost:8080/",
          "height": 202
        },
        "id": "5SX7iH7_RVQc",
        "outputId": "01732d5d-354c-4b8e-f622-26d7eb6d3d0d"
      },
      "source": [
        "MedicalInsurance = pd.read_csv('/content/drive/MyDrive/insurance.csv')\n",
        "MedicalInsurance.tail()"
      ],
      "execution_count": 16,
      "outputs": [
        {
          "output_type": "execute_result",
          "data": {
            "text/html": [
              "<div>\n",
              "<style scoped>\n",
              "    .dataframe tbody tr th:only-of-type {\n",
              "        vertical-align: middle;\n",
              "    }\n",
              "\n",
              "    .dataframe tbody tr th {\n",
              "        vertical-align: top;\n",
              "    }\n",
              "\n",
              "    .dataframe thead th {\n",
              "        text-align: right;\n",
              "    }\n",
              "</style>\n",
              "<table border=\"1\" class=\"dataframe\">\n",
              "  <thead>\n",
              "    <tr style=\"text-align: right;\">\n",
              "      <th></th>\n",
              "      <th>age</th>\n",
              "      <th>sex</th>\n",
              "      <th>bmi</th>\n",
              "      <th>children</th>\n",
              "      <th>smoker</th>\n",
              "      <th>region</th>\n",
              "      <th>charges</th>\n",
              "    </tr>\n",
              "  </thead>\n",
              "  <tbody>\n",
              "    <tr>\n",
              "      <th>1333</th>\n",
              "      <td>50</td>\n",
              "      <td>male</td>\n",
              "      <td>30.97</td>\n",
              "      <td>3</td>\n",
              "      <td>no</td>\n",
              "      <td>northwest</td>\n",
              "      <td>10600.5483</td>\n",
              "    </tr>\n",
              "    <tr>\n",
              "      <th>1334</th>\n",
              "      <td>18</td>\n",
              "      <td>female</td>\n",
              "      <td>31.92</td>\n",
              "      <td>0</td>\n",
              "      <td>no</td>\n",
              "      <td>northeast</td>\n",
              "      <td>2205.9808</td>\n",
              "    </tr>\n",
              "    <tr>\n",
              "      <th>1335</th>\n",
              "      <td>18</td>\n",
              "      <td>female</td>\n",
              "      <td>36.85</td>\n",
              "      <td>0</td>\n",
              "      <td>no</td>\n",
              "      <td>southeast</td>\n",
              "      <td>1629.8335</td>\n",
              "    </tr>\n",
              "    <tr>\n",
              "      <th>1336</th>\n",
              "      <td>21</td>\n",
              "      <td>female</td>\n",
              "      <td>25.80</td>\n",
              "      <td>0</td>\n",
              "      <td>no</td>\n",
              "      <td>southwest</td>\n",
              "      <td>2007.9450</td>\n",
              "    </tr>\n",
              "    <tr>\n",
              "      <th>1337</th>\n",
              "      <td>61</td>\n",
              "      <td>female</td>\n",
              "      <td>29.07</td>\n",
              "      <td>0</td>\n",
              "      <td>yes</td>\n",
              "      <td>northwest</td>\n",
              "      <td>29141.3603</td>\n",
              "    </tr>\n",
              "  </tbody>\n",
              "</table>\n",
              "</div>"
            ],
            "text/plain": [
              "      age     sex    bmi  children smoker     region     charges\n",
              "1333   50    male  30.97         3     no  northwest  10600.5483\n",
              "1334   18  female  31.92         0     no  northeast   2205.9808\n",
              "1335   18  female  36.85         0     no  southeast   1629.8335\n",
              "1336   21  female  25.80         0     no  southwest   2007.9450\n",
              "1337   61  female  29.07         0    yes  northwest  29141.3603"
            ]
          },
          "metadata": {
            "tags": []
          },
          "execution_count": 16
        }
      ]
    },
    {
      "cell_type": "code",
      "metadata": {
        "colab": {
          "base_uri": "https://localhost:8080/"
        },
        "id": "_6bM-hMfW3k7",
        "outputId": "4abb9ede-775b-4509-f3ee-6239e92a7e13"
      },
      "source": [
        "TrainSet, TestSet = train_test_split(MedicalInsurance, test_size=0.25)\n",
        "print('Size of Training set:', len(TrainSet))\n",
        "print('Size of Test set:', len(TestSet))"
      ],
      "execution_count": 37,
      "outputs": [
        {
          "output_type": "stream",
          "text": [
            "Size of Training set: 1003\n",
            "Size of Test set: 335\n"
          ],
          "name": "stdout"
        }
      ]
    },
    {
      "cell_type": "code",
      "metadata": {
        "colab": {
          "base_uri": "https://localhost:8080/",
          "height": 202
        },
        "id": "Yw0PNCuTSEDC",
        "outputId": "66fad5fb-5edc-4b07-f7cc-3cb88e74afd5"
      },
      "source": [
        "uniMathData = MedicalInsurance[['age', 'charges']]\n",
        "uniMathData.head(5)"
      ],
      "execution_count": 22,
      "outputs": [
        {
          "output_type": "execute_result",
          "data": {
            "text/html": [
              "<div>\n",
              "<style scoped>\n",
              "    .dataframe tbody tr th:only-of-type {\n",
              "        vertical-align: middle;\n",
              "    }\n",
              "\n",
              "    .dataframe tbody tr th {\n",
              "        vertical-align: top;\n",
              "    }\n",
              "\n",
              "    .dataframe thead th {\n",
              "        text-align: right;\n",
              "    }\n",
              "</style>\n",
              "<table border=\"1\" class=\"dataframe\">\n",
              "  <thead>\n",
              "    <tr style=\"text-align: right;\">\n",
              "      <th></th>\n",
              "      <th>age</th>\n",
              "      <th>charges</th>\n",
              "    </tr>\n",
              "  </thead>\n",
              "  <tbody>\n",
              "    <tr>\n",
              "      <th>0</th>\n",
              "      <td>19</td>\n",
              "      <td>16884.92400</td>\n",
              "    </tr>\n",
              "    <tr>\n",
              "      <th>1</th>\n",
              "      <td>18</td>\n",
              "      <td>1725.55230</td>\n",
              "    </tr>\n",
              "    <tr>\n",
              "      <th>2</th>\n",
              "      <td>28</td>\n",
              "      <td>4449.46200</td>\n",
              "    </tr>\n",
              "    <tr>\n",
              "      <th>3</th>\n",
              "      <td>33</td>\n",
              "      <td>21984.47061</td>\n",
              "    </tr>\n",
              "    <tr>\n",
              "      <th>4</th>\n",
              "      <td>32</td>\n",
              "      <td>3866.85520</td>\n",
              "    </tr>\n",
              "  </tbody>\n",
              "</table>\n",
              "</div>"
            ],
            "text/plain": [
              "   age      charges\n",
              "0   19  16884.92400\n",
              "1   18   1725.55230\n",
              "2   28   4449.46200\n",
              "3   33  21984.47061\n",
              "4   32   3866.85520"
            ]
          },
          "metadata": {
            "tags": []
          },
          "execution_count": 22
        }
      ]
    },
    {
      "cell_type": "code",
      "metadata": {
        "id": "eyzP9mL4Hmb5"
      },
      "source": [
        "uniMathData.to_csv('univariate_MathData_2.csv')"
      ],
      "execution_count": 24,
      "outputs": []
    },
    {
      "cell_type": "code",
      "metadata": {
        "colab": {
          "base_uri": "https://localhost:8080/"
        },
        "id": "FBkXbz46W9d7",
        "outputId": "c4d2fdbb-6bbf-4f5b-ada8-cce273099ee5"
      },
      "source": [
        "MedicalInsurance.isnull().any()"
      ],
      "execution_count": 38,
      "outputs": [
        {
          "output_type": "execute_result",
          "data": {
            "text/plain": [
              "age         False\n",
              "sex         False\n",
              "bmi         False\n",
              "children    False\n",
              "smoker      False\n",
              "region      False\n",
              "charges     False\n",
              "dtype: bool"
            ]
          },
          "metadata": {
            "tags": []
          },
          "execution_count": 38
        }
      ]
    },
    {
      "cell_type": "code",
      "metadata": {
        "colab": {
          "base_uri": "https://localhost:8080/"
        },
        "id": "I-3qK_nNxnTA",
        "outputId": "40882800-f2d8-49b2-a7e8-af824885f859"
      },
      "source": [
        "ls"
      ],
      "execution_count": 25,
      "outputs": [
        {
          "output_type": "stream",
          "text": [
            "\u001b[0m\u001b[01;34mdrive\u001b[0m/  \u001b[01;34msample_data\u001b[0m/  univariate_MathData_2.csv\n"
          ],
          "name": "stdout"
        }
      ]
    },
    {
      "cell_type": "code",
      "metadata": {
        "colab": {
          "base_uri": "https://localhost:8080/",
          "height": 156
        },
        "id": "RqumcsZLxq4v",
        "outputId": "4e9b2522-a13d-4b2e-e7a2-0eb72bc5b633"
      },
      "source": [
        "import seaborn as sns\n",
        "sns.palplot(sns.color_palette('PuOr')) #Purple to Orange colors\n",
        "pal = sns.color_palette('PuOr', 6) #print 6 color shades from Purple to Orange\n",
        "pal.as_hex() #set hex code values for colors\n",
        "\n",
        "import matplotlib.pyplot as plt\n",
        "plt.style.use(['seaborn'])\n",
        "sns_colors = ['#c6690c', '#664697'] #orange Purple hex codes\n",
        "sns.set_palette(sns_colors) #set the palette as sns_colors \n",
        "sns.palplot(sns.color_palette(sns_colors)) #plot the color codes"
      ],
      "execution_count": 26,
      "outputs": [
        {
          "output_type": "display_data",
          "data": {
            "image/png": "[encoded data removed]",
            "text/plain": [
              "<Figure size 432x72 with 1 Axes>"
            ]
          },
          "metadata": {
            "tags": [],
            "needs_background": "light"
          }
        },
        {
          "output_type": "display_data",
          "data": {
            "image/png": "[encoded data removed]",
            "text/plain": [
              "<Figure size 144x72 with 1 Axes>"
            ]
          },
          "metadata": {
            "tags": []
          }
        }
      ]
    },
    {
      "cell_type": "code",
      "metadata": {
        "colab": {
          "base_uri": "https://localhost:8080/"
        },
        "id": "A6MT5E8Fy7MZ",
        "outputId": "3db6e6b5-849e-41c2-f351-4fa724182591"
      },
      "source": [
        "uniMathData.columns #columns in the dataframe"
      ],
      "execution_count": 34,
      "outputs": [
        {
          "output_type": "execute_result",
          "data": {
            "text/plain": [
              "Index(['age', 'charges'], dtype='object')"
            ]
          },
          "metadata": {
            "tags": []
          },
          "execution_count": 34
        }
      ]
    },
    {
      "cell_type": "code",
      "metadata": {
        "id": "O86mvZFVWI8b"
      },
      "source": [
        ""
      ],
      "execution_count": null,
      "outputs": []
    },
    {
      "cell_type": "code",
      "metadata": {
        "colab": {
          "base_uri": "https://localhost:8080/",
          "height": 392
        },
        "id": "PrsTwdHHzBbk",
        "outputId": "071e50a5-bd23-40b3-9bb6-621da1336de6"
      },
      "source": [
        "#pairplot for all the values\n",
        "\n",
        "sns.pairplot(uniMathData,\n",
        "             x_vars = ['age', 'charges'],\n",
        "             y_vars =  ['age', 'charges'],\n",
        "       diag_kind='kde'\n",
        "             )"
      ],
      "execution_count": 35,
      "outputs": [
        {
          "output_type": "execute_result",
          "data": {
            "text/plain": [
              "<seaborn.axisgrid.PairGrid at 0x7f6e73068f90>"
            ]
          },
          "metadata": {
            "tags": []
          },
          "execution_count": 35
        },
        {
          "output_type": "display_data",
          "data": {
            "image/png": "[encoded data removed]",
            "text/plain": [
              "<Figure size 360x360 with 6 Axes>"
            ]
          },
          "metadata": {
            "tags": []
          }
        }
      ]
    },
    {
      "cell_type": "code",
      "metadata": {
        "colab": {
          "base_uri": "https://localhost:8080/"
        },
        "id": "vhIsFrHhX-L0",
        "outputId": "63b0b4b3-6e92-4fd1-8012-da3f0b620fe8"
      },
      "source": [
        "\n",
        "trainDataset = uniMathData.sample(frac=0.8, random_state=0) \n",
        "testDataset = uniMathData.drop(trainDataset.index)\n",
        "\n",
        "print(trainDataset.head())\n",
        "print(testDataset.head())"
      ],
      "execution_count": 44,
      "outputs": [
        {
          "output_type": "stream",
          "text": [
            "      age      charges\n",
            "578    52   9724.53000\n",
            "610    47   8547.69130\n",
            "569    48  45702.02235\n",
            "1034   61  12950.07120\n",
            "198    51   9644.25250\n",
            "    age      charges\n",
            "11   62  27808.72510\n",
            "23   34  37701.87680\n",
            "24   37   6203.90175\n",
            "25   59  14001.13380\n",
            "28   23   2775.19215\n"
          ],
          "name": "stdout"
        }
      ]
    },
    {
      "cell_type": "code",
      "metadata": {
        "colab": {
          "base_uri": "https://localhost:8080/"
        },
        "id": "GJ7d0xuqYCK3",
        "outputId": "845c218a-1e8f-46f1-a0a4-df351afbb2d2"
      },
      "source": [
        "print(trainDataset.shape)\n",
        "print(testDataset.shape)\n"
      ],
      "execution_count": 45,
      "outputs": [
        {
          "output_type": "stream",
          "text": [
            "(1070, 2)\n",
            "(268, 2)\n"
          ],
          "name": "stdout"
        }
      ]
    },
    {
      "cell_type": "code",
      "metadata": {
        "colab": {
          "base_uri": "https://localhost:8080/"
        },
        "id": "1QopiAmCYHgv",
        "outputId": "c651c4e2-9ea4-4aa3-a7e9-832a69229033"
      },
      "source": [
        "#copy the trainDataset dataframe for getting the features\n",
        "\n",
        "trainFeatures = trainDataset.copy()\n",
        "testFeatures = testDataset.copy()\n",
        "\n",
        "print(trainFeatures.head())\n",
        "print(testFeatures.head())"
      ],
      "execution_count": 46,
      "outputs": [
        {
          "output_type": "stream",
          "text": [
            "      age      charges\n",
            "578    52   9724.53000\n",
            "610    47   8547.69130\n",
            "569    48  45702.02235\n",
            "1034   61  12950.07120\n",
            "198    51   9644.25250\n",
            "    age      charges\n",
            "11   62  27808.72510\n",
            "23   34  37701.87680\n",
            "24   37   6203.90175\n",
            "25   59  14001.13380\n",
            "28   23   2775.19215\n"
          ],
          "name": "stdout"
        }
      ]
    },
    {
      "cell_type": "code",
      "metadata": {
        "colab": {
          "base_uri": "https://localhost:8080/"
        },
        "id": "gKmlwiZcYNgB",
        "outputId": "91a40a7d-dfb2-45a6-eca0-fbfcc7de6e8f"
      },
      "source": [
        "\n",
        "trainLabels = trainFeatures.pop('age')\n",
        "testLabels = testFeatures.pop('age')\n",
        "\n",
        "print(trainLabels.head())\n",
        "print(testLabels.head())"
      ],
      "execution_count": 47,
      "outputs": [
        {
          "output_type": "stream",
          "text": [
            "578     52\n",
            "610     47\n",
            "569     48\n",
            "1034    61\n",
            "198     51\n",
            "Name: age, dtype: int64\n",
            "11    62\n",
            "23    34\n",
            "24    37\n",
            "25    59\n",
            "28    23\n",
            "Name: age, dtype: int64\n"
          ],
          "name": "stdout"
        }
      ]
    },
    {
      "cell_type": "code",
      "metadata": {
        "colab": {
          "base_uri": "https://localhost:8080/"
        },
        "id": "Pe-9qcTFYU0_",
        "outputId": "20b641d1-f692-4d98-91a1-822b753cf69d"
      },
      "source": [
        "print(trainFeatures.head())\n",
        "print(testFeatures.head())"
      ],
      "execution_count": 48,
      "outputs": [
        {
          "output_type": "stream",
          "text": [
            "          charges\n",
            "578    9724.53000\n",
            "610    8547.69130\n",
            "569   45702.02235\n",
            "1034  12950.07120\n",
            "198    9644.25250\n",
            "        charges\n",
            "11  27808.72510\n",
            "23  37701.87680\n",
            "24   6203.90175\n",
            "25  14001.13380\n",
            "28   2775.19215\n"
          ],
          "name": "stdout"
        }
      ]
    },
    {
      "cell_type": "code",
      "metadata": {
        "colab": {
          "base_uri": "https://localhost:8080/",
          "height": 238
        },
        "id": "96ZvnbhUYjVi",
        "outputId": "8f250f9f-4858-450c-c5e8-430e806bce9c"
      },
      "source": [
        "\n",
        "model.compile(\n",
        "    loss = 'mean_absolute_error', #minimizing the MAE loss\n",
        "    optimizer = tf.keras.optimizers.Adam(0.001), #learning rate specified as 0.001\n",
        "    # optimizer = 'adam', #takes the default learning rate\n",
        "    metrics = ['smoking', 'sex'] #meanSquare and meanAbsolute error metrics\n",
        ")"
      ],
      "execution_count": 51,
      "outputs": [
        {
          "output_type": "error",
          "ename": "NameError",
          "evalue": "ignored",
          "traceback": [
            "\u001b[0;31m---------------------------------------------------------------------------\u001b[0m",
            "\u001b[0;31mNameError\u001b[0m                                 Traceback (most recent call last)",
            "\u001b[0;32m<ipython-input-51-007471659a8e>\u001b[0m in \u001b[0;36m<module>\u001b[0;34m()\u001b[0m\n\u001b[1;32m      1\u001b[0m \u001b[0;34m\u001b[0m\u001b[0m\n\u001b[0;32m----> 2\u001b[0;31m model.compile(\n\u001b[0m\u001b[1;32m      3\u001b[0m     \u001b[0mloss\u001b[0m \u001b[0;34m=\u001b[0m \u001b[0;34m'mean_absolute_error'\u001b[0m\u001b[0;34m,\u001b[0m \u001b[0;31m#minimizing the MAE loss\u001b[0m\u001b[0;34m\u001b[0m\u001b[0;34m\u001b[0m\u001b[0m\n\u001b[1;32m      4\u001b[0m     \u001b[0moptimizer\u001b[0m \u001b[0;34m=\u001b[0m \u001b[0mtf\u001b[0m\u001b[0;34m.\u001b[0m\u001b[0mkeras\u001b[0m\u001b[0;34m.\u001b[0m\u001b[0moptimizers\u001b[0m\u001b[0;34m.\u001b[0m\u001b[0mAdam\u001b[0m\u001b[0;34m(\u001b[0m\u001b[0;36m0.001\u001b[0m\u001b[0;34m)\u001b[0m\u001b[0;34m,\u001b[0m \u001b[0;31m#learning rate specified as 0.001\u001b[0m\u001b[0;34m\u001b[0m\u001b[0;34m\u001b[0m\u001b[0m\n\u001b[1;32m      5\u001b[0m     \u001b[0;31m# optimizer = 'adam', #takes the default learning rate\u001b[0m\u001b[0;34m\u001b[0m\u001b[0;34m\u001b[0m\u001b[0;34m\u001b[0m\u001b[0m\n",
            "\u001b[0;31mNameError\u001b[0m: name 'model' is not defined"
          ]
        }
      ]
    },
    {
      "cell_type": "code",
      "metadata": {
        "id": "5MuyNwYyZAxU"
      },
      "source": [
        "# univariate -> num(features) = 1\n",
        "# multvariate -> num(features) > 1 = 11\n",
        "\n",
        "\n",
        "model = tf.keras.Sequential([\n",
        "                             tf.keras.layers.Dense(1)\n",
        "\n",
        "])"
      ],
      "execution_count": 55,
      "outputs": []
    },
    {
      "cell_type": "code",
      "metadata": {
        "id": "SnfxSl5jZGUy"
      },
      "source": [
        "model.compile(\n",
        "    loss = 'mean_absolute_error',\n",
        "    optimizer = tf.keras.optimizers.Adam(0.001),\n",
        "    metrics = ['mae', 'mse']\n",
        ")\n"
      ],
      "execution_count": 58,
      "outputs": []
    },
    {
      "cell_type": "code",
      "metadata": {
        "colab": {
          "base_uri": "https://localhost:8080/"
        },
        "id": "aJKKZ_YiZh2o",
        "outputId": "b4010ab1-b2d5-49f1-8f6e-8fc08cef8249"
      },
      "source": [
        "numEpochs = 300\n",
        "history = model.fit(x = trainFeatures, y = trainLabels, validation_data = (testFeatures, testLabels), epochs = numEpochs)"
      ],
      "execution_count": 59,
      "outputs": [
        {
          "output_type": "stream",
          "text": [
            "Epoch 1/300\n",
            "34/34 [==============================] - 1s 6ms/step - loss: 21201.2383 - mae: 21201.2383 - mse: 829978816.0000 - val_loss: 22689.9375 - val_mae: 22689.9375 - val_mse: 920921024.0000\n",
            "Epoch 2/300\n",
            "34/34 [==============================] - 0s 2ms/step - loss: 20762.3887 - mae: 20762.3887 - mse: 795942016.0000 - val_loss: 22215.0176 - val_mae: 22215.0176 - val_mse: 882800320.0000\n",
            "Epoch 3/300\n",
            "34/34 [==============================] - 0s 2ms/step - loss: 20321.9863 - mae: 20321.9863 - mse: 762365376.0000 - val_loss: 21740.1270 - val_mae: 21740.1270 - val_mse: 845487232.0000\n",
            "Epoch 4/300\n",
            "34/34 [==============================] - 0s 1ms/step - loss: 19884.2090 - mae: 19884.2090 - mse: 729840704.0000 - val_loss: 21263.5742 - val_mae: 21263.5742 - val_mse: 808854016.0000\n",
            "Epoch 5/300\n",
            "34/34 [==============================] - 0s 1ms/step - loss: 19444.2383 - mae: 19444.2383 - mse: 697826176.0000 - val_loss: 20792.5215 - val_mae: 20792.5215 - val_mse: 773440192.0000\n",
            "Epoch 6/300\n",
            "34/34 [==============================] - 0s 2ms/step - loss: 19007.8887 - mae: 19007.8887 - mse: 667075264.0000 - val_loss: 20313.7070 - val_mae: 20313.7070 - val_mse: 738255744.0000\n",
            "Epoch 7/300\n",
            "34/34 [==============================] - 0s 2ms/step - loss: 18566.1387 - mae: 18566.1387 - mse: 636015232.0000 - val_loss: 19847.4570 - val_mae: 19847.4570 - val_mse: 704781696.0000\n",
            "Epoch 8/300\n",
            "34/34 [==============================] - 0s 1ms/step - loss: 18131.0215 - mae: 18131.0215 - mse: 606692544.0000 - val_loss: 19371.4844 - val_mae: 19371.4844 - val_mse: 671410560.0000\n",
            "Epoch 9/300\n",
            "34/34 [==============================] - 0s 2ms/step - loss: 17692.4824 - mae: 17692.4824 - mse: 577861440.0000 - val_loss: 18896.5352 - val_mae: 18896.5352 - val_mse: 638917952.0000\n",
            "Epoch 10/300\n",
            "34/34 [==============================] - 0s 2ms/step - loss: 17252.7168 - mae: 17252.7168 - mse: 549521280.0000 - val_loss: 18412.3477 - val_mae: 18412.3477 - val_mse: 606622592.0000\n",
            "Epoch 11/300\n",
            "34/34 [==============================] - 0s 2ms/step - loss: 16814.4629 - mae: 16814.4629 - mse: 522611136.0000 - val_loss: 17941.0762 - val_mae: 17941.0762 - val_mse: 575993216.0000\n",
            "Epoch 12/300\n",
            "34/34 [==============================] - 0s 1ms/step - loss: 16375.7705 - mae: 16375.7705 - mse: 495037536.0000 - val_loss: 17473.3750 - val_mae: 17473.3750 - val_mse: 546380224.0000\n",
            "Epoch 13/300\n",
            "34/34 [==============================] - 0s 2ms/step - loss: 15940.5254 - mae: 15940.5254 - mse: 469363008.0000 - val_loss: 17002.4180 - val_mae: 17002.4180 - val_mse: 517350848.0000\n",
            "Epoch 14/300\n",
            "34/34 [==============================] - 0s 2ms/step - loss: 15503.1885 - mae: 15503.1885 - mse: 444028448.0000 - val_loss: 16524.4121 - val_mae: 16524.4121 - val_mse: 488697184.0000\n",
            "Epoch 15/300\n",
            "34/34 [==============================] - 0s 2ms/step - loss: 15065.6846 - mae: 15065.6846 - mse: 419219616.0000 - val_loss: 16047.6533 - val_mae: 16047.6533 - val_mse: 460931392.0000\n",
            "Epoch 16/300\n",
            "34/34 [==============================] - 0s 2ms/step - loss: 14625.9336 - mae: 14625.9336 - mse: 395178624.0000 - val_loss: 15579.0361 - val_mae: 15579.0361 - val_mse: 434430976.0000\n",
            "Epoch 17/300\n",
            "34/34 [==============================] - 0s 1ms/step - loss: 14187.9229 - mae: 14187.9229 - mse: 371916640.0000 - val_loss: 15101.6699 - val_mae: 15101.6699 - val_mse: 408242464.0000\n",
            "Epoch 18/300\n",
            "34/34 [==============================] - 0s 2ms/step - loss: 13748.9297 - mae: 13748.9297 - mse: 349265952.0000 - val_loss: 14625.9600 - val_mae: 14625.9600 - val_mse: 382954624.0000\n",
            "Epoch 19/300\n",
            "34/34 [==============================] - 0s 2ms/step - loss: 13311.1611 - mae: 13311.1611 - mse: 327451040.0000 - val_loss: 14151.7451 - val_mae: 14151.7451 - val_mse: 358550976.0000\n",
            "Epoch 20/300\n",
            "34/34 [==============================] - 0s 2ms/step - loss: 12873.7285 - mae: 12873.7285 - mse: 306298688.0000 - val_loss: 13681.1543 - val_mae: 13681.1543 - val_mse: 335128000.0000\n",
            "Epoch 21/300\n",
            "34/34 [==============================] - 0s 2ms/step - loss: 12438.2725 - mae: 12438.2725 - mse: 286140256.0000 - val_loss: 13206.4502 - val_mae: 13206.4502 - val_mse: 312301792.0000\n",
            "Epoch 22/300\n",
            "34/34 [==============================] - 0s 1ms/step - loss: 11998.9053 - mae: 11998.9053 - mse: 266040176.0000 - val_loss: 12735.2480 - val_mae: 12735.2480 - val_mse: 290440128.0000\n",
            "Epoch 23/300\n",
            "34/34 [==============================] - 0s 1ms/step - loss: 11561.7588 - mae: 11561.7588 - mse: 247220448.0000 - val_loss: 12260.7930 - val_mae: 12260.7930 - val_mse: 269229056.0000\n",
            "Epoch 24/300\n",
            "34/34 [==============================] - 0s 1ms/step - loss: 11119.7920 - mae: 11119.7920 - mse: 228381888.0000 - val_loss: 11788.4141 - val_mae: 11788.4141 - val_mse: 248909616.0000\n",
            "Epoch 25/300\n",
            "34/34 [==============================] - 0s 2ms/step - loss: 10680.2188 - mae: 10680.2188 - mse: 210790064.0000 - val_loss: 11306.1562 - val_mae: 11306.1562 - val_mse: 228987536.0000\n",
            "Epoch 26/300\n",
            "34/34 [==============================] - 0s 2ms/step - loss: 10236.2363 - mae: 10236.2363 - mse: 193688480.0000 - val_loss: 10833.4941 - val_mae: 10833.4941 - val_mse: 210268160.0000\n",
            "Epoch 27/300\n",
            "34/34 [==============================] - 0s 2ms/step - loss: 9798.8867 - mae: 9798.8867 - mse: 177331024.0000 - val_loss: 10358.7373 - val_mae: 10358.7373 - val_mse: 192269168.0000\n",
            "Epoch 28/300\n",
            "34/34 [==============================] - 0s 2ms/step - loss: 9362.5986 - mae: 9362.5986 - mse: 162254272.0000 - val_loss: 9883.5928 - val_mae: 9883.5928 - val_mse: 175061712.0000\n",
            "Epoch 29/300\n",
            "34/34 [==============================] - 0s 2ms/step - loss: 8923.8428 - mae: 8923.8428 - mse: 147371232.0000 - val_loss: 9406.5059 - val_mae: 9406.5059 - val_mse: 158595456.0000\n",
            "Epoch 30/300\n",
            "34/34 [==============================] - 0s 2ms/step - loss: 8482.9736 - mae: 8482.9736 - mse: 133135128.0000 - val_loss: 8934.6094 - val_mae: 8934.6094 - val_mse: 143108128.0000\n",
            "Epoch 31/300\n",
            "34/34 [==============================] - 0s 2ms/step - loss: 8045.0439 - mae: 8045.0439 - mse: 119820112.0000 - val_loss: 8453.7949 - val_mae: 8453.7949 - val_mse: 128146432.0000\n",
            "Epoch 32/300\n",
            "34/34 [==============================] - 0s 2ms/step - loss: 7604.6245 - mae: 7604.6245 - mse: 107151600.0000 - val_loss: 7980.2007 - val_mae: 7980.2007 - val_mse: 114216752.0000\n",
            "Epoch 33/300\n",
            "34/34 [==============================] - 0s 2ms/step - loss: 7164.5024 - mae: 7164.5024 - mse: 94942384.0000 - val_loss: 7504.0859 - val_mae: 7504.0859 - val_mse: 101020616.0000\n",
            "Epoch 34/300\n",
            "34/34 [==============================] - 0s 1ms/step - loss: 6727.5093 - mae: 6727.5093 - mse: 84022408.0000 - val_loss: 7023.4126 - val_mae: 7023.4126 - val_mse: 88519632.0000\n",
            "Epoch 35/300\n",
            "34/34 [==============================] - 0s 2ms/step - loss: 6285.2188 - mae: 6285.2188 - mse: 73167688.0000 - val_loss: 6559.7544 - val_mae: 6559.7544 - val_mse: 77243240.0000\n",
            "Epoch 36/300\n",
            "34/34 [==============================] - 0s 2ms/step - loss: 5846.0830 - mae: 5846.0830 - mse: 63330492.0000 - val_loss: 6080.6729 - val_mae: 6080.6729 - val_mse: 66398500.0000\n",
            "Epoch 37/300\n",
            "34/34 [==============================] - 0s 2ms/step - loss: 5408.4180 - mae: 5408.4180 - mse: 54355784.0000 - val_loss: 5602.1279 - val_mae: 5602.1279 - val_mse: 56384452.0000\n",
            "Epoch 38/300\n",
            "34/34 [==============================] - 0s 2ms/step - loss: 4970.6494 - mae: 4970.6494 - mse: 45944380.0000 - val_loss: 5130.8721 - val_mae: 5130.8721 - val_mse: 47322468.0000\n",
            "Epoch 39/300\n",
            "34/34 [==============================] - 0s 2ms/step - loss: 4530.7510 - mae: 4530.7510 - mse: 38180080.0000 - val_loss: 4657.2881 - val_mae: 4657.2881 - val_mse: 39014956.0000\n",
            "Epoch 40/300\n",
            "34/34 [==============================] - 0s 1ms/step - loss: 4092.2034 - mae: 4092.2034 - mse: 31128340.0000 - val_loss: 4182.9565 - val_mae: 4182.9565 - val_mse: 31497476.0000\n",
            "Epoch 41/300\n",
            "34/34 [==============================] - 0s 2ms/step - loss: 3658.4287 - mae: 3658.4287 - mse: 25037488.0000 - val_loss: 3702.6658 - val_mae: 3702.6658 - val_mse: 24704516.0000\n",
            "Epoch 42/300\n",
            "34/34 [==============================] - 0s 2ms/step - loss: 3217.4941 - mae: 3217.4941 - mse: 19293452.0000 - val_loss: 3240.2485 - val_mae: 3240.2485 - val_mse: 18943014.0000\n",
            "Epoch 43/300\n",
            "34/34 [==============================] - 0s 2ms/step - loss: 2781.4658 - mae: 2781.4658 - mse: 14403101.0000 - val_loss: 2771.7456 - val_mae: 2771.7456 - val_mse: 13884719.0000\n",
            "Epoch 44/300\n",
            "34/34 [==============================] - 0s 2ms/step - loss: 2347.2019 - mae: 2347.2019 - mse: 10313187.0000 - val_loss: 2288.6978 - val_mae: 2288.6978 - val_mse: 9490410.0000\n",
            "Epoch 45/300\n",
            "34/34 [==============================] - 0s 2ms/step - loss: 1906.2679 - mae: 1906.2679 - mse: 6855082.5000 - val_loss: 1814.5513 - val_mae: 1814.5513 - val_mse: 5987756.5000\n",
            "Epoch 46/300\n",
            "34/34 [==============================] - 0s 2ms/step - loss: 1468.8157 - mae: 1468.8157 - mse: 4115705.7500 - val_loss: 1334.3046 - val_mae: 1334.3046 - val_mse: 3258738.7500\n",
            "Epoch 47/300\n",
            "34/34 [==============================] - 0s 2ms/step - loss: 1025.5106 - mae: 1025.5106 - mse: 2015925.6250 - val_loss: 871.4490 - val_mae: 871.4490 - val_mse: 1408269.0000\n",
            "Epoch 48/300\n",
            "34/34 [==============================] - 0s 2ms/step - loss: 590.7211 - mae: 590.7211 - mse: 709312.0000 - val_loss: 394.8587 - val_mae: 394.8587 - val_mse: 302631.5312\n",
            "Epoch 49/300\n",
            "34/34 [==============================] - 0s 2ms/step - loss: 163.8751 - mae: 163.8751 - mse: 82873.6484 - val_loss: 42.5299 - val_mae: 42.5299 - val_mse: 2003.2234\n",
            "Epoch 50/300\n",
            "34/34 [==============================] - 0s 2ms/step - loss: 29.8215 - mae: 29.8215 - mse: 1222.2506 - val_loss: 24.9628 - val_mae: 24.9628 - val_mse: 767.8456\n",
            "Epoch 51/300\n",
            "34/34 [==============================] - 0s 2ms/step - loss: 25.7313 - mae: 25.7313 - mse: 794.8904 - val_loss: 25.0907 - val_mae: 25.0907 - val_mse: 769.1770\n",
            "Epoch 52/300\n",
            "34/34 [==============================] - 0s 2ms/step - loss: 25.9088 - mae: 25.9088 - mse: 813.0810 - val_loss: 25.1591 - val_mae: 25.1591 - val_mse: 802.2296\n",
            "Epoch 53/300\n",
            "34/34 [==============================] - 0s 2ms/step - loss: 25.8744 - mae: 25.8744 - mse: 837.9059 - val_loss: 25.9903 - val_mae: 25.9903 - val_mse: 886.8214\n",
            "Epoch 54/300\n",
            "34/34 [==============================] - 0s 2ms/step - loss: 25.8284 - mae: 25.8284 - mse: 840.1196 - val_loss: 25.0331 - val_mae: 25.0331 - val_mse: 789.6805\n",
            "Epoch 55/300\n",
            "34/34 [==============================] - 0s 2ms/step - loss: 25.6838 - mae: 25.6838 - mse: 798.5521 - val_loss: 25.3842 - val_mae: 25.3842 - val_mse: 828.2848\n",
            "Epoch 56/300\n",
            "34/34 [==============================] - 0s 2ms/step - loss: 25.6915 - mae: 25.6915 - mse: 796.1393 - val_loss: 26.2871 - val_mae: 26.2871 - val_mse: 921.7985\n",
            "Epoch 57/300\n",
            "34/34 [==============================] - 0s 2ms/step - loss: 25.7215 - mae: 25.7215 - mse: 822.7099 - val_loss: 25.2625 - val_mae: 25.2625 - val_mse: 775.3323\n",
            "Epoch 58/300\n",
            "34/34 [==============================] - 0s 2ms/step - loss: 25.8194 - mae: 25.8194 - mse: 827.7973 - val_loss: 24.9322 - val_mae: 24.9322 - val_mse: 762.1558\n",
            "Epoch 59/300\n",
            "34/34 [==============================] - 0s 2ms/step - loss: 25.5383 - mae: 25.5383 - mse: 793.3228 - val_loss: 25.1745 - val_mae: 25.1745 - val_mse: 770.8649\n",
            "Epoch 60/300\n",
            "34/34 [==============================] - 0s 2ms/step - loss: 25.7068 - mae: 25.7068 - mse: 796.8598 - val_loss: 25.6601 - val_mae: 25.6601 - val_mse: 800.0905\n",
            "Epoch 61/300\n",
            "34/34 [==============================] - 0s 1ms/step - loss: 25.5650 - mae: 25.5650 - mse: 793.8473 - val_loss: 25.1048 - val_mae: 25.1048 - val_mse: 802.4106\n",
            "Epoch 62/300\n",
            "34/34 [==============================] - 0s 2ms/step - loss: 25.7021 - mae: 25.7021 - mse: 808.1221 - val_loss: 24.8479 - val_mae: 24.8479 - val_mse: 758.8659\n",
            "Epoch 63/300\n",
            "34/34 [==============================] - 0s 2ms/step - loss: 25.5279 - mae: 25.5279 - mse: 788.9111 - val_loss: 24.7738 - val_mae: 24.7738 - val_mse: 761.1642\n",
            "Epoch 64/300\n",
            "34/34 [==============================] - 0s 2ms/step - loss: 25.4839 - mae: 25.4839 - mse: 787.8110 - val_loss: 24.7644 - val_mae: 24.7644 - val_mse: 763.6392\n",
            "Epoch 65/300\n",
            "34/34 [==============================] - 0s 2ms/step - loss: 25.5719 - mae: 25.5719 - mse: 785.9281 - val_loss: 24.8115 - val_mae: 24.8115 - val_mse: 771.2416\n",
            "Epoch 66/300\n",
            "34/34 [==============================] - 0s 2ms/step - loss: 25.7234 - mae: 25.7234 - mse: 822.6619 - val_loss: 26.6532 - val_mae: 26.6532 - val_mse: 976.9081\n",
            "Epoch 67/300\n",
            "34/34 [==============================] - 0s 2ms/step - loss: 25.5433 - mae: 25.5433 - mse: 801.7404 - val_loss: 25.5903 - val_mae: 25.5903 - val_mse: 853.6204\n",
            "Epoch 68/300\n",
            "34/34 [==============================] - 0s 2ms/step - loss: 26.4835 - mae: 26.4835 - mse: 919.0597 - val_loss: 25.5096 - val_mae: 25.5096 - val_mse: 791.3231\n",
            "Epoch 69/300\n",
            "34/34 [==============================] - 0s 2ms/step - loss: 26.0165 - mae: 26.0165 - mse: 823.6684 - val_loss: 24.6938 - val_mae: 24.6938 - val_mse: 756.2360\n",
            "Epoch 70/300\n",
            "34/34 [==============================] - 0s 2ms/step - loss: 25.6973 - mae: 25.6973 - mse: 814.4669 - val_loss: 26.8753 - val_mae: 26.8753 - val_mse: 1011.4329\n",
            "Epoch 71/300\n",
            "34/34 [==============================] - 0s 2ms/step - loss: 25.8357 - mae: 25.8357 - mse: 813.1923 - val_loss: 24.7068 - val_mae: 24.7068 - val_mse: 751.9548\n",
            "Epoch 72/300\n",
            "34/34 [==============================] - 0s 2ms/step - loss: 25.3729 - mae: 25.3729 - mse: 780.0690 - val_loss: 24.8651 - val_mae: 24.8651 - val_mse: 755.4078\n",
            "Epoch 73/300\n",
            "34/34 [==============================] - 0s 2ms/step - loss: 25.3988 - mae: 25.3988 - mse: 787.8547 - val_loss: 24.6780 - val_mae: 24.6780 - val_mse: 750.3380\n",
            "Epoch 74/300\n",
            "34/34 [==============================] - 0s 2ms/step - loss: 25.8787 - mae: 25.8787 - mse: 811.3789 - val_loss: 26.2501 - val_mae: 26.2501 - val_mse: 932.5687\n",
            "Epoch 75/300\n",
            "34/34 [==============================] - 0s 2ms/step - loss: 25.5754 - mae: 25.5754 - mse: 831.4293 - val_loss: 24.7097 - val_mae: 24.7097 - val_mse: 768.2932\n",
            "Epoch 76/300\n",
            "34/34 [==============================] - 0s 2ms/step - loss: 25.5299 - mae: 25.5299 - mse: 776.8777 - val_loss: 24.6309 - val_mae: 24.6309 - val_mse: 747.9257\n",
            "Epoch 77/300\n",
            "34/34 [==============================] - 0s 2ms/step - loss: 25.9027 - mae: 25.9027 - mse: 832.1970 - val_loss: 26.7165 - val_mae: 26.7165 - val_mse: 997.2682\n",
            "Epoch 78/300\n",
            "34/34 [==============================] - 0s 2ms/step - loss: 25.4142 - mae: 25.4142 - mse: 780.1719 - val_loss: 24.6792 - val_mae: 24.6792 - val_mse: 767.4729\n",
            "Epoch 79/300\n",
            "34/34 [==============================] - 0s 2ms/step - loss: 25.4257 - mae: 25.4257 - mse: 795.8648 - val_loss: 24.5993 - val_mae: 24.5993 - val_mse: 757.7767\n",
            "Epoch 80/300\n",
            "34/34 [==============================] - 0s 2ms/step - loss: 25.4374 - mae: 25.4374 - mse: 782.6161 - val_loss: 24.5531 - val_mae: 24.5531 - val_mse: 745.3635\n",
            "Epoch 81/300\n",
            "34/34 [==============================] - 0s 2ms/step - loss: 25.4834 - mae: 25.4834 - mse: 791.6143 - val_loss: 25.8334 - val_mae: 25.8334 - val_mse: 888.9167\n",
            "Epoch 82/300\n",
            "34/34 [==============================] - 0s 2ms/step - loss: 25.6196 - mae: 25.6196 - mse: 801.2484 - val_loss: 24.9368 - val_mae: 24.9368 - val_mse: 798.9186\n",
            "Epoch 83/300\n",
            "34/34 [==============================] - 0s 2ms/step - loss: 25.4347 - mae: 25.4347 - mse: 811.1223 - val_loss: 25.1012 - val_mae: 25.1012 - val_mse: 815.6987\n",
            "Epoch 84/300\n",
            "34/34 [==============================] - 0s 2ms/step - loss: 25.4705 - mae: 25.4705 - mse: 796.8979 - val_loss: 26.5434 - val_mae: 26.5434 - val_mse: 981.6602\n",
            "Epoch 85/300\n",
            "34/34 [==============================] - 0s 2ms/step - loss: 25.7447 - mae: 25.7447 - mse: 829.7000 - val_loss: 24.7801 - val_mae: 24.7801 - val_mse: 749.1506\n",
            "Epoch 86/300\n",
            "34/34 [==============================] - 0s 2ms/step - loss: 25.4951 - mae: 25.4951 - mse: 794.0729 - val_loss: 24.8013 - val_mae: 24.8013 - val_mse: 787.4866\n",
            "Epoch 87/300\n",
            "34/34 [==============================] - 0s 2ms/step - loss: 25.8005 - mae: 25.8005 - mse: 841.0077 - val_loss: 25.1326 - val_mae: 25.1326 - val_mse: 820.7568\n",
            "Epoch 88/300\n",
            "34/34 [==============================] - 0s 2ms/step - loss: 25.2152 - mae: 25.2152 - mse: 776.2123 - val_loss: 24.5885 - val_mae: 24.5885 - val_mse: 765.0795\n",
            "Epoch 89/300\n",
            "34/34 [==============================] - 0s 2ms/step - loss: 25.2598 - mae: 25.2598 - mse: 776.8419 - val_loss: 24.6031 - val_mae: 24.6031 - val_mse: 740.8807\n",
            "Epoch 90/300\n",
            "34/34 [==============================] - 0s 2ms/step - loss: 25.3465 - mae: 25.3465 - mse: 777.6968 - val_loss: 24.7006 - val_mae: 24.7006 - val_mse: 779.5650\n",
            "Epoch 91/300\n",
            "34/34 [==============================] - 0s 2ms/step - loss: 25.6733 - mae: 25.6733 - mse: 857.6559 - val_loss: 24.3656 - val_mae: 24.3656 - val_mse: 737.7484\n",
            "Epoch 92/300\n",
            "34/34 [==============================] - 0s 2ms/step - loss: 25.1236 - mae: 25.1236 - mse: 783.9382 - val_loss: 24.7183 - val_mae: 24.7183 - val_mse: 745.3412\n",
            "Epoch 93/300\n",
            "34/34 [==============================] - 0s 2ms/step - loss: 25.6677 - mae: 25.6677 - mse: 828.2319 - val_loss: 25.7855 - val_mae: 25.7855 - val_mse: 894.3394\n",
            "Epoch 94/300\n",
            "34/34 [==============================] - 0s 2ms/step - loss: 25.4845 - mae: 25.4845 - mse: 817.4031 - val_loss: 26.0836 - val_mae: 26.0836 - val_mse: 831.3036\n",
            "Epoch 95/300\n",
            "34/34 [==============================] - 0s 2ms/step - loss: 25.6582 - mae: 25.6582 - mse: 811.0164 - val_loss: 24.5407 - val_mae: 24.5407 - val_mse: 765.6494\n",
            "Epoch 96/300\n",
            "34/34 [==============================] - 0s 2ms/step - loss: 25.4925 - mae: 25.4925 - mse: 802.1761 - val_loss: 24.2909 - val_mae: 24.2909 - val_mse: 735.9384\n",
            "Epoch 97/300\n",
            "34/34 [==============================] - 0s 2ms/step - loss: 24.9917 - mae: 24.9917 - mse: 767.3144 - val_loss: 24.4149 - val_mae: 24.4149 - val_mse: 731.5092\n",
            "Epoch 98/300\n",
            "34/34 [==============================] - 0s 2ms/step - loss: 25.1525 - mae: 25.1525 - mse: 778.5027 - val_loss: 24.3474 - val_mae: 24.3474 - val_mse: 746.4711\n",
            "Epoch 99/300\n",
            "34/34 [==============================] - 0s 2ms/step - loss: 25.0421 - mae: 25.0421 - mse: 779.5674 - val_loss: 25.4450 - val_mae: 25.4450 - val_mse: 793.2513\n",
            "Epoch 100/300\n",
            "34/34 [==============================] - 0s 2ms/step - loss: 25.1510 - mae: 25.1510 - mse: 786.7046 - val_loss: 24.2372 - val_mae: 24.2372 - val_mse: 734.2416\n",
            "Epoch 101/300\n",
            "34/34 [==============================] - 0s 2ms/step - loss: 24.9852 - mae: 24.9852 - mse: 758.0508 - val_loss: 24.4771 - val_mae: 24.4771 - val_mse: 764.0977\n",
            "Epoch 102/300\n",
            "34/34 [==============================] - 0s 2ms/step - loss: 25.0848 - mae: 25.0848 - mse: 772.1448 - val_loss: 24.3136 - val_mae: 24.3136 - val_mse: 726.2703\n",
            "Epoch 103/300\n",
            "34/34 [==============================] - 0s 2ms/step - loss: 25.1295 - mae: 25.1295 - mse: 775.6838 - val_loss: 24.5410 - val_mae: 24.5410 - val_mse: 773.1320\n",
            "Epoch 104/300\n",
            "34/34 [==============================] - 0s 2ms/step - loss: 25.8161 - mae: 25.8161 - mse: 869.4645 - val_loss: 25.0544 - val_mae: 25.0544 - val_mse: 824.0479\n",
            "Epoch 105/300\n",
            "34/34 [==============================] - 0s 2ms/step - loss: 25.3639 - mae: 25.3639 - mse: 847.1451 - val_loss: 24.2626 - val_mae: 24.2626 - val_mse: 723.4798\n",
            "Epoch 106/300\n",
            "34/34 [==============================] - 0s 2ms/step - loss: 25.0083 - mae: 25.0083 - mse: 762.3063 - val_loss: 25.1748 - val_mae: 25.1748 - val_mse: 838.0125\n",
            "Epoch 107/300\n",
            "34/34 [==============================] - 0s 2ms/step - loss: 25.3566 - mae: 25.3566 - mse: 841.1023 - val_loss: 24.1527 - val_mae: 24.1527 - val_mse: 731.7978\n",
            "Epoch 108/300\n",
            "34/34 [==============================] - 0s 2ms/step - loss: 24.8752 - mae: 24.8752 - mse: 762.2941 - val_loss: 24.1067 - val_mae: 24.1067 - val_mse: 720.1425\n",
            "Epoch 109/300\n",
            "34/34 [==============================] - 0s 2ms/step - loss: 25.0676 - mae: 25.0676 - mse: 776.2142 - val_loss: 24.5246 - val_mae: 24.5246 - val_mse: 776.2903\n",
            "Epoch 110/300\n",
            "34/34 [==============================] - 0s 2ms/step - loss: 27.5038 - mae: 27.5038 - mse: 1470.9602 - val_loss: 24.5878 - val_mae: 24.5878 - val_mse: 737.9234\n",
            "Epoch 111/300\n",
            "34/34 [==============================] - 0s 2ms/step - loss: 25.4274 - mae: 25.4274 - mse: 831.3783 - val_loss: 24.5996 - val_mae: 24.5996 - val_mse: 738.7838\n",
            "Epoch 112/300\n",
            "34/34 [==============================] - 0s 2ms/step - loss: 25.0830 - mae: 25.0830 - mse: 770.4159 - val_loss: 25.3996 - val_mae: 25.3996 - val_mse: 791.6375\n",
            "Epoch 113/300\n",
            "34/34 [==============================] - 0s 2ms/step - loss: 25.5392 - mae: 25.5392 - mse: 870.5725 - val_loss: 26.5524 - val_mae: 26.5524 - val_mse: 1024.1705\n",
            "Epoch 114/300\n",
            "34/34 [==============================] - 0s 2ms/step - loss: 25.1387 - mae: 25.1387 - mse: 809.2941 - val_loss: 24.7166 - val_mae: 24.7166 - val_mse: 747.5175\n",
            "Epoch 115/300\n",
            "34/34 [==============================] - 0s 2ms/step - loss: 25.1652 - mae: 25.1652 - mse: 882.6574 - val_loss: 24.9067 - val_mae: 24.9067 - val_mse: 760.5304\n",
            "Epoch 116/300\n",
            "34/34 [==============================] - 0s 2ms/step - loss: 25.6655 - mae: 25.6655 - mse: 890.0101 - val_loss: 27.7167 - val_mae: 27.7167 - val_mse: 1238.3022\n",
            "Epoch 117/300\n",
            "34/34 [==============================] - 0s 2ms/step - loss: 24.7810 - mae: 24.7810 - mse: 768.3377 - val_loss: 24.8844 - val_mae: 24.8844 - val_mse: 759.5712\n",
            "Epoch 118/300\n",
            "34/34 [==============================] - 0s 2ms/step - loss: 25.7372 - mae: 25.7372 - mse: 905.0094 - val_loss: 26.3149 - val_mae: 26.3149 - val_mse: 996.0618\n",
            "Epoch 119/300\n",
            "34/34 [==============================] - 0s 2ms/step - loss: 24.8819 - mae: 24.8819 - mse: 756.6940 - val_loss: 27.2684 - val_mae: 27.2684 - val_mse: 1158.0292\n",
            "Epoch 120/300\n",
            "34/34 [==============================] - 0s 2ms/step - loss: 25.2445 - mae: 25.2445 - mse: 892.2078 - val_loss: 24.3952 - val_mae: 24.3952 - val_mse: 727.4453\n",
            "Epoch 121/300\n",
            "34/34 [==============================] - 0s 2ms/step - loss: 24.7587 - mae: 24.7587 - mse: 748.8337 - val_loss: 24.0047 - val_mae: 24.0047 - val_mse: 709.0710\n",
            "Epoch 122/300\n",
            "34/34 [==============================] - 0s 2ms/step - loss: 24.6522 - mae: 24.6522 - mse: 746.6389 - val_loss: 23.8591 - val_mae: 23.8591 - val_mse: 711.3438\n",
            "Epoch 123/300\n",
            "34/34 [==============================] - 0s 2ms/step - loss: 24.8971 - mae: 24.8971 - mse: 787.6678 - val_loss: 23.8516 - val_mae: 23.8516 - val_mse: 706.0206\n",
            "Epoch 124/300\n",
            "34/34 [==============================] - 0s 2ms/step - loss: 24.7233 - mae: 24.7233 - mse: 760.9628 - val_loss: 24.0976 - val_mae: 24.0976 - val_mse: 743.0098\n",
            "Epoch 125/300\n",
            "34/34 [==============================] - 0s 2ms/step - loss: 24.6504 - mae: 24.6504 - mse: 749.9777 - val_loss: 23.9002 - val_mae: 23.9002 - val_mse: 704.0641\n",
            "Epoch 126/300\n",
            "34/34 [==============================] - 0s 2ms/step - loss: 25.4900 - mae: 25.4900 - mse: 911.8852 - val_loss: 27.6518 - val_mae: 27.6518 - val_mse: 1250.1885\n",
            "Epoch 127/300\n",
            "34/34 [==============================] - 0s 2ms/step - loss: 24.7195 - mae: 24.7195 - mse: 794.4092 - val_loss: 23.9452 - val_mae: 23.9452 - val_mse: 705.0493\n",
            "Epoch 128/300\n",
            "34/34 [==============================] - 0s 2ms/step - loss: 24.7669 - mae: 24.7669 - mse: 784.9219 - val_loss: 23.7820 - val_mae: 23.7820 - val_mse: 709.9289\n",
            "Epoch 129/300\n",
            "34/34 [==============================] - 0s 2ms/step - loss: 24.8297 - mae: 24.8297 - mse: 772.2534 - val_loss: 23.9337 - val_mae: 23.9337 - val_mse: 729.4376\n",
            "Epoch 130/300\n",
            "34/34 [==============================] - 0s 2ms/step - loss: 24.4753 - mae: 24.4753 - mse: 731.9170 - val_loss: 24.3950 - val_mae: 24.3950 - val_mse: 729.8114\n",
            "Epoch 131/300\n",
            "34/34 [==============================] - 0s 2ms/step - loss: 24.7224 - mae: 24.7224 - mse: 749.9847 - val_loss: 24.1408 - val_mae: 24.1408 - val_mse: 754.3405\n",
            "Epoch 132/300\n",
            "34/34 [==============================] - 0s 2ms/step - loss: 24.6191 - mae: 24.6191 - mse: 751.1956 - val_loss: 24.5933 - val_mae: 24.5933 - val_mse: 798.9795\n",
            "Epoch 133/300\n",
            "34/34 [==============================] - 0s 2ms/step - loss: 24.6901 - mae: 24.6901 - mse: 754.9031 - val_loss: 23.6991 - val_mae: 23.6991 - val_mse: 705.6322\n",
            "Epoch 134/300\n",
            "34/34 [==============================] - 0s 1ms/step - loss: 25.0149 - mae: 25.0149 - mse: 815.7323 - val_loss: 24.1984 - val_mae: 24.1984 - val_mse: 762.3606\n",
            "Epoch 135/300\n",
            "34/34 [==============================] - 0s 2ms/step - loss: 24.5539 - mae: 24.5539 - mse: 744.1315 - val_loss: 23.6325 - val_mae: 23.6325 - val_mse: 698.5259\n",
            "Epoch 136/300\n",
            "34/34 [==============================] - 0s 2ms/step - loss: 24.9003 - mae: 24.9003 - mse: 814.8794 - val_loss: 24.4621 - val_mae: 24.4621 - val_mse: 789.0949\n",
            "Epoch 137/300\n",
            "34/34 [==============================] - 0s 2ms/step - loss: 24.5754 - mae: 24.5754 - mse: 759.9894 - val_loss: 23.6235 - val_mae: 23.6235 - val_mse: 701.0855\n",
            "Epoch 138/300\n",
            "34/34 [==============================] - 0s 2ms/step - loss: 24.9619 - mae: 24.9619 - mse: 825.7324 - val_loss: 23.8882 - val_mae: 23.8882 - val_mse: 733.4977\n",
            "Epoch 139/300\n",
            "34/34 [==============================] - 0s 2ms/step - loss: 25.6762 - mae: 25.6762 - mse: 931.0317 - val_loss: 26.8512 - val_mae: 26.8512 - val_mse: 886.0795\n",
            "Epoch 140/300\n",
            "34/34 [==============================] - 0s 2ms/step - loss: 24.8729 - mae: 24.8729 - mse: 804.7383 - val_loss: 23.5510 - val_mae: 23.5510 - val_mse: 695.0530\n",
            "Epoch 141/300\n",
            "34/34 [==============================] - 0s 2ms/step - loss: 25.0650 - mae: 25.0650 - mse: 804.8618 - val_loss: 23.9397 - val_mae: 23.9397 - val_mse: 703.0754\n",
            "Epoch 142/300\n",
            "34/34 [==============================] - 0s 2ms/step - loss: 24.6647 - mae: 24.6647 - mse: 777.3312 - val_loss: 24.1493 - val_mae: 24.1493 - val_mse: 716.2545\n",
            "Epoch 143/300\n",
            "34/34 [==============================] - 0s 3ms/step - loss: 24.5135 - mae: 24.5135 - mse: 734.7898 - val_loss: 23.5849 - val_mae: 23.5849 - val_mse: 703.9212\n",
            "Epoch 144/300\n",
            "34/34 [==============================] - 0s 2ms/step - loss: 24.8605 - mae: 24.8605 - mse: 794.0021 - val_loss: 23.8831 - val_mae: 23.8831 - val_mse: 700.1013\n",
            "Epoch 145/300\n",
            "34/34 [==============================] - 0s 2ms/step - loss: 24.8572 - mae: 24.8572 - mse: 792.0484 - val_loss: 24.9097 - val_mae: 24.9097 - val_mse: 764.6964\n",
            "Epoch 146/300\n",
            "34/34 [==============================] - 0s 2ms/step - loss: 24.5098 - mae: 24.5098 - mse: 754.2886 - val_loss: 24.7059 - val_mae: 24.7059 - val_mse: 823.4149\n",
            "Epoch 147/300\n",
            "34/34 [==============================] - 0s 2ms/step - loss: 25.0557 - mae: 25.0557 - mse: 830.1716 - val_loss: 23.5204 - val_mae: 23.5204 - val_mse: 683.4358\n",
            "Epoch 148/300\n",
            "34/34 [==============================] - 0s 2ms/step - loss: 24.4488 - mae: 24.4488 - mse: 744.8645 - val_loss: 23.4046 - val_mae: 23.4046 - val_mse: 682.4841\n",
            "Epoch 149/300\n",
            "34/34 [==============================] - 0s 2ms/step - loss: 24.2960 - mae: 24.2960 - mse: 719.5931 - val_loss: 23.9621 - val_mae: 23.9621 - val_mse: 750.6157\n",
            "Epoch 150/300\n",
            "34/34 [==============================] - 0s 2ms/step - loss: 24.2975 - mae: 24.2975 - mse: 747.4740 - val_loss: 23.5447 - val_mae: 23.5447 - val_mse: 683.5120\n",
            "Epoch 151/300\n",
            "34/34 [==============================] - 0s 2ms/step - loss: 24.8530 - mae: 24.8530 - mse: 806.6447 - val_loss: 23.6538 - val_mae: 23.6538 - val_mse: 688.3584\n",
            "Epoch 152/300\n",
            "34/34 [==============================] - 0s 2ms/step - loss: 25.7563 - mae: 25.7563 - mse: 1056.9504 - val_loss: 24.1679 - val_mae: 24.1679 - val_mse: 772.5522\n",
            "Epoch 153/300\n",
            "34/34 [==============================] - 0s 2ms/step - loss: 24.1378 - mae: 24.1378 - mse: 731.2331 - val_loss: 23.4442 - val_mae: 23.4442 - val_mse: 699.1849\n",
            "Epoch 154/300\n",
            "34/34 [==============================] - 0s 2ms/step - loss: 24.3131 - mae: 24.3131 - mse: 742.8856 - val_loss: 23.3281 - val_mae: 23.3281 - val_mse: 685.2366\n",
            "Epoch 155/300\n",
            "34/34 [==============================] - 0s 2ms/step - loss: 24.3826 - mae: 24.3826 - mse: 757.6375 - val_loss: 23.2837 - val_mae: 23.2837 - val_mse: 680.0503\n",
            "Epoch 156/300\n",
            "34/34 [==============================] - 0s 2ms/step - loss: 24.3239 - mae: 24.3239 - mse: 765.1026 - val_loss: 23.3431 - val_mae: 23.3431 - val_mse: 689.7065\n",
            "Epoch 157/300\n",
            "34/34 [==============================] - 0s 2ms/step - loss: 24.2973 - mae: 24.2973 - mse: 748.0360 - val_loss: 23.5160 - val_mae: 23.5160 - val_mse: 681.2403\n",
            "Epoch 158/300\n",
            "34/34 [==============================] - 0s 2ms/step - loss: 24.9922 - mae: 24.9922 - mse: 994.6022 - val_loss: 27.8550 - val_mae: 27.8550 - val_mse: 1387.9973\n",
            "Epoch 159/300\n",
            "34/34 [==============================] - 0s 2ms/step - loss: 24.8766 - mae: 24.8766 - mse: 861.6668 - val_loss: 25.4599 - val_mae: 25.4599 - val_mse: 936.0097\n",
            "Epoch 160/300\n",
            "34/34 [==============================] - 0s 2ms/step - loss: 24.1962 - mae: 24.1962 - mse: 743.6151 - val_loss: 23.6286 - val_mae: 23.6286 - val_mse: 686.8491\n",
            "Epoch 161/300\n",
            "34/34 [==============================] - 0s 2ms/step - loss: 24.2191 - mae: 24.2191 - mse: 778.0227 - val_loss: 23.2051 - val_mae: 23.2051 - val_mse: 678.6417\n",
            "Epoch 162/300\n",
            "34/34 [==============================] - 0s 2ms/step - loss: 23.8699 - mae: 23.8699 - mse: 699.3668 - val_loss: 23.4779 - val_mae: 23.4779 - val_mse: 711.9078\n",
            "Epoch 163/300\n",
            "34/34 [==============================] - 0s 2ms/step - loss: 24.0021 - mae: 24.0021 - mse: 706.7613 - val_loss: 23.2831 - val_mae: 23.2831 - val_mse: 691.4210\n",
            "Epoch 164/300\n",
            "34/34 [==============================] - 0s 2ms/step - loss: 23.9200 - mae: 23.9200 - mse: 723.1233 - val_loss: 25.2735 - val_mae: 25.2735 - val_mse: 790.6952\n",
            "Epoch 165/300\n",
            "34/34 [==============================] - 0s 2ms/step - loss: 25.1465 - mae: 25.1465 - mse: 855.5872 - val_loss: 25.1064 - val_mae: 25.1064 - val_mse: 779.9585\n",
            "Epoch 166/300\n",
            "34/34 [==============================] - 0s 2ms/step - loss: 24.0292 - mae: 24.0292 - mse: 734.0778 - val_loss: 23.6109 - val_mae: 23.6109 - val_mse: 729.5240\n",
            "Epoch 167/300\n",
            "34/34 [==============================] - 0s 2ms/step - loss: 24.1782 - mae: 24.1782 - mse: 744.5305 - val_loss: 24.4174 - val_mae: 24.4174 - val_mse: 812.7496\n",
            "Epoch 168/300\n",
            "34/34 [==============================] - 0s 2ms/step - loss: 25.0918 - mae: 25.0918 - mse: 939.5332 - val_loss: 24.6606 - val_mae: 24.6606 - val_mse: 842.5068\n",
            "Epoch 169/300\n",
            "34/34 [==============================] - 0s 2ms/step - loss: 24.0715 - mae: 24.0715 - mse: 740.2933 - val_loss: 23.8141 - val_mae: 23.8141 - val_mse: 751.2835\n",
            "Epoch 170/300\n",
            "34/34 [==============================] - 0s 2ms/step - loss: 23.9352 - mae: 23.9352 - mse: 742.4690 - val_loss: 23.9409 - val_mae: 23.9409 - val_mse: 709.8126\n",
            "Epoch 171/300\n",
            "34/34 [==============================] - 0s 2ms/step - loss: 23.8625 - mae: 23.8625 - mse: 711.2922 - val_loss: 23.8807 - val_mae: 23.8807 - val_mse: 706.3397\n",
            "Epoch 172/300\n",
            "34/34 [==============================] - 0s 2ms/step - loss: 24.1312 - mae: 24.1312 - mse: 750.6298 - val_loss: 23.4636 - val_mae: 23.4636 - val_mse: 678.7297\n",
            "Epoch 173/300\n",
            "34/34 [==============================] - 0s 2ms/step - loss: 23.9486 - mae: 23.9486 - mse: 717.0122 - val_loss: 23.3639 - val_mae: 23.3639 - val_mse: 710.3497\n",
            "Epoch 174/300\n",
            "34/34 [==============================] - 0s 2ms/step - loss: 23.4847 - mae: 23.4847 - mse: 704.4058 - val_loss: 25.5725 - val_mae: 25.5725 - val_mse: 978.8505\n",
            "Epoch 175/300\n",
            "34/34 [==============================] - 0s 2ms/step - loss: 24.4873 - mae: 24.4873 - mse: 816.1741 - val_loss: 26.6508 - val_mae: 26.6508 - val_mse: 1174.6058\n",
            "Epoch 176/300\n",
            "34/34 [==============================] - 0s 2ms/step - loss: 24.4943 - mae: 24.4943 - mse: 808.6255 - val_loss: 22.9224 - val_mae: 22.9224 - val_mse: 654.7701\n",
            "Epoch 177/300\n",
            "34/34 [==============================] - 0s 2ms/step - loss: 23.7923 - mae: 23.7923 - mse: 713.0071 - val_loss: 23.2374 - val_mae: 23.2374 - val_mse: 700.6713\n",
            "Epoch 178/300\n",
            "34/34 [==============================] - 0s 2ms/step - loss: 23.9138 - mae: 23.9138 - mse: 766.1921 - val_loss: 23.4728 - val_mae: 23.4728 - val_mse: 681.0035\n",
            "Epoch 179/300\n",
            "34/34 [==============================] - 0s 2ms/step - loss: 23.6954 - mae: 23.6954 - mse: 717.3624 - val_loss: 24.2749 - val_mae: 24.2749 - val_mse: 809.4622\n",
            "Epoch 180/300\n",
            "34/34 [==============================] - 0s 2ms/step - loss: 23.8283 - mae: 23.8283 - mse: 727.6157 - val_loss: 23.5079 - val_mae: 23.5079 - val_mse: 684.4802\n",
            "Epoch 181/300\n",
            "34/34 [==============================] - 0s 2ms/step - loss: 23.9595 - mae: 23.9595 - mse: 734.0893 - val_loss: 22.8963 - val_mae: 22.8963 - val_mse: 650.9240\n",
            "Epoch 182/300\n",
            "34/34 [==============================] - 0s 2ms/step - loss: 23.8251 - mae: 23.8251 - mse: 732.4241 - val_loss: 23.0292 - val_mae: 23.0292 - val_mse: 655.9556\n",
            "Epoch 183/300\n",
            "34/34 [==============================] - 0s 2ms/step - loss: 23.5795 - mae: 23.5795 - mse: 691.1575 - val_loss: 22.9062 - val_mae: 22.9062 - val_mse: 670.1874\n",
            "Epoch 184/300\n",
            "34/34 [==============================] - 0s 2ms/step - loss: 23.7630 - mae: 23.7630 - mse: 773.8743 - val_loss: 22.9031 - val_mae: 22.9031 - val_mse: 650.3088\n",
            "Epoch 185/300\n",
            "34/34 [==============================] - 0s 2ms/step - loss: 23.8677 - mae: 23.8677 - mse: 763.3278 - val_loss: 24.5900 - val_mae: 24.5900 - val_mse: 750.5763\n",
            "Epoch 186/300\n",
            "34/34 [==============================] - 0s 2ms/step - loss: 23.4911 - mae: 23.4911 - mse: 695.9302 - val_loss: 22.9389 - val_mae: 22.9389 - val_mse: 676.7231\n",
            "Epoch 187/300\n",
            "34/34 [==============================] - 0s 2ms/step - loss: 23.9648 - mae: 23.9648 - mse: 757.2235 - val_loss: 22.9629 - val_mae: 22.9629 - val_mse: 680.2563\n",
            "Epoch 188/300\n",
            "34/34 [==============================] - 0s 2ms/step - loss: 24.3920 - mae: 24.3920 - mse: 920.8160 - val_loss: 29.8923 - val_mae: 29.8923 - val_mse: 2092.6191\n",
            "Epoch 189/300\n",
            "34/34 [==============================] - 0s 2ms/step - loss: 24.6558 - mae: 24.6558 - mse: 863.4139 - val_loss: 25.4446 - val_mae: 25.4446 - val_mse: 987.1620\n",
            "Epoch 190/300\n",
            "34/34 [==============================] - 0s 2ms/step - loss: 23.5650 - mae: 23.5650 - mse: 729.2250 - val_loss: 23.1248 - val_mae: 23.1248 - val_mse: 661.3055\n",
            "Epoch 191/300\n",
            "34/34 [==============================] - 0s 2ms/step - loss: 23.7619 - mae: 23.7619 - mse: 752.3307 - val_loss: 23.3728 - val_mae: 23.3728 - val_mse: 725.8891\n",
            "Epoch 192/300\n",
            "34/34 [==============================] - 0s 2ms/step - loss: 24.1393 - mae: 24.1393 - mse: 814.7945 - val_loss: 23.2599 - val_mae: 23.2599 - val_mse: 715.9326\n",
            "Epoch 193/300\n",
            "34/34 [==============================] - 0s 2ms/step - loss: 23.3741 - mae: 23.3741 - mse: 691.2855 - val_loss: 22.6112 - val_mae: 22.6112 - val_mse: 638.9006\n",
            "Epoch 194/300\n",
            "34/34 [==============================] - 0s 2ms/step - loss: 23.1706 - mae: 23.1706 - mse: 690.1859 - val_loss: 23.0413 - val_mae: 23.0413 - val_mse: 696.1087\n",
            "Epoch 195/300\n",
            "34/34 [==============================] - 0s 2ms/step - loss: 23.5030 - mae: 23.5030 - mse: 698.6559 - val_loss: 22.5630 - val_mae: 22.5630 - val_mse: 638.4686\n",
            "Epoch 196/300\n",
            "34/34 [==============================] - 0s 2ms/step - loss: 23.5457 - mae: 23.5457 - mse: 712.7711 - val_loss: 22.5559 - val_mae: 22.5559 - val_mse: 636.1335\n",
            "Epoch 197/300\n",
            "34/34 [==============================] - 0s 2ms/step - loss: 23.6363 - mae: 23.6363 - mse: 729.9838 - val_loss: 22.5493 - val_mae: 22.5493 - val_mse: 634.8981\n",
            "Epoch 198/300\n",
            "34/34 [==============================] - 0s 2ms/step - loss: 23.2617 - mae: 23.2617 - mse: 672.0618 - val_loss: 22.7979 - val_mae: 22.7979 - val_mse: 673.5433\n",
            "Epoch 199/300\n",
            "34/34 [==============================] - 0s 2ms/step - loss: 24.2549 - mae: 24.2549 - mse: 866.9639 - val_loss: 26.2039 - val_mae: 26.2039 - val_mse: 1148.3499\n",
            "Epoch 200/300\n",
            "34/34 [==============================] - 0s 2ms/step - loss: 23.8910 - mae: 23.8910 - mse: 750.4056 - val_loss: 22.5657 - val_mae: 22.5657 - val_mse: 649.1466\n",
            "Epoch 201/300\n",
            "34/34 [==============================] - 0s 2ms/step - loss: 23.6211 - mae: 23.6211 - mse: 721.5783 - val_loss: 22.4550 - val_mae: 22.4550 - val_mse: 633.3363\n",
            "Epoch 202/300\n",
            "34/34 [==============================] - 0s 2ms/step - loss: 23.9337 - mae: 23.9337 - mse: 756.7922 - val_loss: 22.5691 - val_mae: 22.5691 - val_mse: 652.8046\n",
            "Epoch 203/300\n",
            "34/34 [==============================] - 0s 2ms/step - loss: 23.6748 - mae: 23.6748 - mse: 720.8401 - val_loss: 22.5965 - val_mae: 22.5965 - val_mse: 656.9279\n",
            "Epoch 204/300\n",
            "34/34 [==============================] - 0s 2ms/step - loss: 23.1780 - mae: 23.1780 - mse: 663.6281 - val_loss: 24.1060 - val_mae: 24.1060 - val_mse: 819.7907\n",
            "Epoch 205/300\n",
            "34/34 [==============================] - 0s 2ms/step - loss: 23.4908 - mae: 23.4908 - mse: 720.7804 - val_loss: 24.1188 - val_mae: 24.1188 - val_mse: 822.7803\n",
            "Epoch 206/300\n",
            "34/34 [==============================] - 0s 2ms/step - loss: 23.3547 - mae: 23.3547 - mse: 706.1764 - val_loss: 27.7283 - val_mae: 27.7283 - val_mse: 937.6190\n",
            "Epoch 207/300\n",
            "34/34 [==============================] - 0s 2ms/step - loss: 23.7387 - mae: 23.7387 - mse: 768.2803 - val_loss: 24.6373 - val_mae: 24.6373 - val_mse: 756.7658\n",
            "Epoch 208/300\n",
            "34/34 [==============================] - 0s 2ms/step - loss: 24.5870 - mae: 24.5870 - mse: 905.6923 - val_loss: 22.3292 - val_mae: 22.3292 - val_mse: 626.7765\n",
            "Epoch 209/300\n",
            "34/34 [==============================] - 0s 2ms/step - loss: 23.2234 - mae: 23.2234 - mse: 685.5122 - val_loss: 23.6726 - val_mae: 23.6726 - val_mse: 774.0540\n",
            "Epoch 210/300\n",
            "34/34 [==============================] - 0s 2ms/step - loss: 24.3927 - mae: 24.3927 - mse: 1091.8910 - val_loss: 24.7049 - val_mae: 24.7049 - val_mse: 761.2374\n",
            "Epoch 211/300\n",
            "34/34 [==============================] - 0s 2ms/step - loss: 23.6010 - mae: 23.6010 - mse: 820.9946 - val_loss: 22.8364 - val_mae: 22.8364 - val_mse: 648.4935\n",
            "Epoch 212/300\n",
            "34/34 [==============================] - 0s 2ms/step - loss: 23.2591 - mae: 23.2591 - mse: 691.2245 - val_loss: 23.0936 - val_mae: 23.0936 - val_mse: 716.1770\n",
            "Epoch 213/300\n",
            "34/34 [==============================] - 0s 2ms/step - loss: 23.1540 - mae: 23.1540 - mse: 708.8757 - val_loss: 23.4318 - val_mae: 23.4318 - val_mse: 684.9578\n",
            "Epoch 214/300\n",
            "34/34 [==============================] - 0s 2ms/step - loss: 24.1027 - mae: 24.1027 - mse: 849.8664 - val_loss: 23.8513 - val_mae: 23.8513 - val_mse: 710.0007\n",
            "Epoch 215/300\n",
            "34/34 [==============================] - 0s 2ms/step - loss: 24.4222 - mae: 24.4222 - mse: 859.0373 - val_loss: 23.0637 - val_mae: 23.0637 - val_mse: 664.7618\n",
            "Epoch 216/300\n",
            "34/34 [==============================] - 0s 2ms/step - loss: 22.6865 - mae: 22.6865 - mse: 661.9662 - val_loss: 22.6153 - val_mae: 22.6153 - val_mse: 672.5253\n",
            "Epoch 217/300\n",
            "34/34 [==============================] - 0s 2ms/step - loss: 23.3764 - mae: 23.3764 - mse: 687.7076 - val_loss: 23.1873 - val_mae: 23.1873 - val_mse: 730.1551\n",
            "Epoch 218/300\n",
            "34/34 [==============================] - 0s 2ms/step - loss: 22.9199 - mae: 22.9199 - mse: 687.8751 - val_loss: 22.4127 - val_mae: 22.4127 - val_mse: 652.0388\n",
            "Epoch 219/300\n",
            "34/34 [==============================] - 0s 2ms/step - loss: 22.7384 - mae: 22.7384 - mse: 688.3632 - val_loss: 29.2830 - val_mae: 29.2830 - val_mse: 2041.3652\n",
            "Epoch 220/300\n",
            "34/34 [==============================] - 0s 2ms/step - loss: 24.4359 - mae: 24.4359 - mse: 1087.9104 - val_loss: 22.2840 - val_mae: 22.2840 - val_mse: 618.5331\n",
            "Epoch 221/300\n",
            "34/34 [==============================] - 0s 2ms/step - loss: 24.0021 - mae: 24.0021 - mse: 827.2943 - val_loss: 22.9375 - val_mae: 22.9375 - val_mse: 708.4730\n",
            "Epoch 222/300\n",
            "34/34 [==============================] - 0s 2ms/step - loss: 22.6736 - mae: 22.6736 - mse: 691.4641 - val_loss: 23.9952 - val_mae: 23.9952 - val_mse: 830.3173\n",
            "Epoch 223/300\n",
            "34/34 [==============================] - 0s 2ms/step - loss: 22.7354 - mae: 22.7354 - mse: 651.1572 - val_loss: 23.5275 - val_mae: 23.5275 - val_mse: 773.2828\n",
            "Epoch 224/300\n",
            "34/34 [==============================] - 0s 2ms/step - loss: 23.3484 - mae: 23.3484 - mse: 711.0597 - val_loss: 22.0432 - val_mae: 22.0432 - val_mse: 611.0453\n",
            "Epoch 225/300\n",
            "34/34 [==============================] - 0s 2ms/step - loss: 23.5783 - mae: 23.5783 - mse: 700.7589 - val_loss: 24.2665 - val_mae: 24.2665 - val_mse: 871.9952\n",
            "Epoch 226/300\n",
            "34/34 [==============================] - 0s 2ms/step - loss: 23.1371 - mae: 23.1371 - mse: 694.9294 - val_loss: 24.1573 - val_mae: 24.1573 - val_mse: 858.2302\n",
            "Epoch 227/300\n",
            "34/34 [==============================] - 0s 2ms/step - loss: 23.1053 - mae: 23.1053 - mse: 705.3790 - val_loss: 23.6126 - val_mae: 23.6126 - val_mse: 788.5320\n",
            "Epoch 228/300\n",
            "34/34 [==============================] - 0s 2ms/step - loss: 22.9417 - mae: 22.9417 - mse: 684.9695 - val_loss: 27.9029 - val_mae: 27.9029 - val_mse: 1660.3508\n",
            "Epoch 229/300\n",
            "34/34 [==============================] - 0s 2ms/step - loss: 23.7498 - mae: 23.7498 - mse: 798.3076 - val_loss: 22.9911 - val_mae: 22.9911 - val_mse: 721.3869\n",
            "Epoch 230/300\n",
            "34/34 [==============================] - 0s 2ms/step - loss: 23.9751 - mae: 23.9751 - mse: 919.0306 - val_loss: 29.6256 - val_mae: 29.6256 - val_mse: 1046.1235\n",
            "Epoch 231/300\n",
            "34/34 [==============================] - 0s 2ms/step - loss: 23.5807 - mae: 23.5807 - mse: 819.7872 - val_loss: 22.2682 - val_mae: 22.2682 - val_mse: 650.5874\n",
            "Epoch 232/300\n",
            "34/34 [==============================] - 0s 2ms/step - loss: 23.2239 - mae: 23.2239 - mse: 701.7805 - val_loss: 21.9419 - val_mae: 21.9419 - val_mse: 613.5632\n",
            "Epoch 233/300\n",
            "34/34 [==============================] - 0s 2ms/step - loss: 23.8209 - mae: 23.8209 - mse: 913.8353 - val_loss: 30.9650 - val_mae: 30.9650 - val_mse: 2686.2671\n",
            "Epoch 234/300\n",
            "34/34 [==============================] - 0s 2ms/step - loss: 24.3931 - mae: 24.3931 - mse: 989.3495 - val_loss: 22.8683 - val_mae: 22.8683 - val_mse: 713.3408\n",
            "Epoch 235/300\n",
            "34/34 [==============================] - 0s 2ms/step - loss: 22.9725 - mae: 22.9725 - mse: 748.6659 - val_loss: 21.9641 - val_mae: 21.9641 - val_mse: 620.7996\n",
            "Epoch 236/300\n",
            "34/34 [==============================] - 0s 2ms/step - loss: 23.5987 - mae: 23.5987 - mse: 845.8444 - val_loss: 21.8300 - val_mae: 21.8300 - val_mse: 600.0355\n",
            "Epoch 237/300\n",
            "34/34 [==============================] - 0s 2ms/step - loss: 22.9327 - mae: 22.9327 - mse: 764.6855 - val_loss: 22.8414 - val_mae: 22.8414 - val_mse: 654.6230\n",
            "Epoch 238/300\n",
            "34/34 [==============================] - 0s 2ms/step - loss: 23.0546 - mae: 23.0546 - mse: 679.6171 - val_loss: 22.2486 - val_mae: 22.2486 - val_mse: 655.3616\n",
            "Epoch 239/300\n",
            "34/34 [==============================] - 0s 2ms/step - loss: 22.4670 - mae: 22.4670 - mse: 643.4681 - val_loss: 21.9625 - val_mae: 21.9625 - val_mse: 625.3123\n",
            "Epoch 240/300\n",
            "34/34 [==============================] - 0s 2ms/step - loss: 23.0759 - mae: 23.0759 - mse: 705.0665 - val_loss: 21.9727 - val_mae: 21.9727 - val_mse: 627.2589\n",
            "Epoch 241/300\n",
            "34/34 [==============================] - 0s 2ms/step - loss: 22.3870 - mae: 22.3870 - mse: 631.6029 - val_loss: 21.7446 - val_mae: 21.7446 - val_mse: 599.8188\n",
            "Epoch 242/300\n",
            "34/34 [==============================] - 0s 2ms/step - loss: 22.8277 - mae: 22.8277 - mse: 695.3798 - val_loss: 21.7212 - val_mae: 21.7212 - val_mse: 594.7048\n",
            "Epoch 243/300\n",
            "34/34 [==============================] - 0s 2ms/step - loss: 23.0198 - mae: 23.0198 - mse: 706.5362 - val_loss: 24.6149 - val_mae: 24.6149 - val_mse: 960.2209\n",
            "Epoch 244/300\n",
            "34/34 [==============================] - 0s 2ms/step - loss: 22.7908 - mae: 22.7908 - mse: 694.6866 - val_loss: 24.6832 - val_mae: 24.6832 - val_mse: 974.0141\n",
            "Epoch 245/300\n",
            "34/34 [==============================] - 0s 2ms/step - loss: 24.8183 - mae: 24.8183 - mse: 1013.0367 - val_loss: 22.1646 - val_mae: 22.1646 - val_mse: 614.5146\n",
            "Epoch 246/300\n",
            "34/34 [==============================] - 0s 2ms/step - loss: 22.6234 - mae: 22.6234 - mse: 694.2206 - val_loss: 21.6494 - val_mae: 21.6494 - val_mse: 591.8806\n",
            "Epoch 247/300\n",
            "34/34 [==============================] - 0s 2ms/step - loss: 22.6317 - mae: 22.6317 - mse: 686.0605 - val_loss: 23.2676 - val_mae: 23.2676 - val_mse: 772.2111\n",
            "Epoch 248/300\n",
            "34/34 [==============================] - 0s 3ms/step - loss: 23.0777 - mae: 23.0777 - mse: 870.7252 - val_loss: 21.6437 - val_mae: 21.6437 - val_mse: 598.0022\n",
            "Epoch 249/300\n",
            "34/34 [==============================] - 0s 2ms/step - loss: 22.5875 - mae: 22.5875 - mse: 665.4520 - val_loss: 21.7260 - val_mae: 21.7260 - val_mse: 610.1943\n",
            "Epoch 250/300\n",
            "34/34 [==============================] - 0s 2ms/step - loss: 23.2699 - mae: 23.2699 - mse: 877.8739 - val_loss: 30.0021 - val_mae: 30.0021 - val_mse: 2439.8220\n",
            "Epoch 251/300\n",
            "34/34 [==============================] - 0s 2ms/step - loss: 23.4506 - mae: 23.4506 - mse: 850.9332 - val_loss: 22.1146 - val_mae: 22.1146 - val_mse: 613.5093\n",
            "Epoch 252/300\n",
            "34/34 [==============================] - 0s 2ms/step - loss: 22.4662 - mae: 22.4662 - mse: 639.3286 - val_loss: 23.3337 - val_mae: 23.3337 - val_mse: 787.4938\n",
            "Epoch 253/300\n",
            "34/34 [==============================] - 0s 2ms/step - loss: 23.5707 - mae: 23.5707 - mse: 765.7241 - val_loss: 25.1623 - val_mae: 25.1623 - val_mse: 1084.1940\n",
            "Epoch 254/300\n",
            "34/34 [==============================] - 0s 2ms/step - loss: 22.8585 - mae: 22.8585 - mse: 737.9981 - val_loss: 22.2080 - val_mae: 22.2080 - val_mse: 665.5388\n",
            "Epoch 255/300\n",
            "34/34 [==============================] - 0s 2ms/step - loss: 22.1678 - mae: 22.1678 - mse: 645.7618 - val_loss: 22.3128 - val_mae: 22.3128 - val_mse: 627.6898\n",
            "Epoch 256/300\n",
            "34/34 [==============================] - 0s 2ms/step - loss: 22.7413 - mae: 22.7413 - mse: 690.0047 - val_loss: 22.5530 - val_mae: 22.5530 - val_mse: 702.1387\n",
            "Epoch 257/300\n",
            "34/34 [==============================] - 0s 2ms/step - loss: 22.2172 - mae: 22.2172 - mse: 638.0741 - val_loss: 21.4522 - val_mae: 21.4522 - val_mse: 581.9910\n",
            "Epoch 258/300\n",
            "34/34 [==============================] - 0s 2ms/step - loss: 22.7659 - mae: 22.7659 - mse: 716.8907 - val_loss: 21.4627 - val_mae: 21.4627 - val_mse: 580.1223\n",
            "Epoch 259/300\n",
            "34/34 [==============================] - 0s 2ms/step - loss: 23.0551 - mae: 23.0551 - mse: 817.6838 - val_loss: 25.7491 - val_mae: 25.7491 - val_mse: 1224.9401\n",
            "Epoch 260/300\n",
            "34/34 [==============================] - 0s 2ms/step - loss: 22.7461 - mae: 22.7461 - mse: 694.7783 - val_loss: 21.5779 - val_mae: 21.5779 - val_mse: 584.0109\n",
            "Epoch 261/300\n",
            "34/34 [==============================] - 0s 2ms/step - loss: 22.0738 - mae: 22.0738 - mse: 613.7667 - val_loss: 24.5423 - val_mae: 24.5423 - val_mse: 987.6050\n",
            "Epoch 262/300\n",
            "34/34 [==============================] - 0s 2ms/step - loss: 22.7776 - mae: 22.7776 - mse: 747.2331 - val_loss: 21.7511 - val_mae: 21.7511 - val_mse: 627.2947\n",
            "Epoch 263/300\n",
            "34/34 [==============================] - 0s 2ms/step - loss: 22.2053 - mae: 22.2053 - mse: 647.1953 - val_loss: 21.9704 - val_mae: 21.9704 - val_mse: 608.3556\n",
            "Epoch 264/300\n",
            "34/34 [==============================] - 0s 2ms/step - loss: 22.1424 - mae: 22.1424 - mse: 823.8550 - val_loss: 29.9482 - val_mae: 29.9482 - val_mse: 2491.7644\n",
            "Epoch 265/300\n",
            "34/34 [==============================] - 0s 2ms/step - loss: 22.5523 - mae: 22.5523 - mse: 1021.2253 - val_loss: 22.7907 - val_mae: 22.7907 - val_mse: 654.9115\n",
            "Epoch 266/300\n",
            "34/34 [==============================] - 0s 2ms/step - loss: 21.9722 - mae: 21.9722 - mse: 629.1359 - val_loss: 21.3193 - val_mae: 21.3193 - val_mse: 581.9959\n",
            "Epoch 267/300\n",
            "34/34 [==============================] - 0s 2ms/step - loss: 21.8770 - mae: 21.8770 - mse: 611.0110 - val_loss: 21.4156 - val_mae: 21.4156 - val_mse: 576.4896\n",
            "Epoch 268/300\n",
            "34/34 [==============================] - 0s 2ms/step - loss: 22.0616 - mae: 22.0616 - mse: 618.3116 - val_loss: 23.7179 - val_mae: 23.7179 - val_mse: 866.1300\n",
            "Epoch 269/300\n",
            "34/34 [==============================] - 0s 2ms/step - loss: 22.3500 - mae: 22.3500 - mse: 677.8621 - val_loss: 22.0023 - val_mae: 22.0023 - val_mse: 658.5963\n",
            "Epoch 270/300\n",
            "34/34 [==============================] - 0s 2ms/step - loss: 22.0359 - mae: 22.0359 - mse: 617.3156 - val_loss: 21.4169 - val_mae: 21.4169 - val_mse: 598.9849\n",
            "Epoch 271/300\n",
            "34/34 [==============================] - 0s 2ms/step - loss: 22.7256 - mae: 22.7256 - mse: 691.9144 - val_loss: 25.4587 - val_mae: 25.4587 - val_mse: 1197.5077\n",
            "Epoch 272/300\n",
            "34/34 [==============================] - 0s 2ms/step - loss: 22.3204 - mae: 22.3204 - mse: 709.5640 - val_loss: 21.4117 - val_mae: 21.4117 - val_mse: 600.4511\n",
            "Epoch 273/300\n",
            "34/34 [==============================] - 0s 2ms/step - loss: 23.2114 - mae: 23.2114 - mse: 834.0645 - val_loss: 27.4814 - val_mae: 27.4814 - val_mse: 1726.1458\n",
            "Epoch 274/300\n",
            "34/34 [==============================] - 0s 2ms/step - loss: 22.6961 - mae: 22.6961 - mse: 874.0827 - val_loss: 22.1686 - val_mae: 22.1686 - val_mse: 680.1219\n",
            "Epoch 275/300\n",
            "34/34 [==============================] - 0s 2ms/step - loss: 22.0545 - mae: 22.0545 - mse: 648.5850 - val_loss: 22.1586 - val_mae: 22.1586 - val_mse: 680.0905\n",
            "Epoch 276/300\n",
            "34/34 [==============================] - 0s 2ms/step - loss: 21.7230 - mae: 21.7230 - mse: 610.4409 - val_loss: 21.1351 - val_mae: 21.1351 - val_mse: 564.5776\n",
            "Epoch 277/300\n",
            "34/34 [==============================] - 0s 2ms/step - loss: 21.7246 - mae: 21.7246 - mse: 593.7068 - val_loss: 21.9382 - val_mae: 21.9382 - val_mse: 659.7502\n",
            "Epoch 278/300\n",
            "34/34 [==============================] - 0s 2ms/step - loss: 21.9681 - mae: 21.9681 - mse: 639.8447 - val_loss: 21.2201 - val_mae: 21.2201 - val_mse: 567.2463\n",
            "Epoch 279/300\n",
            "34/34 [==============================] - 0s 2ms/step - loss: 21.8992 - mae: 21.8992 - mse: 697.7399 - val_loss: 21.1142 - val_mae: 21.1142 - val_mse: 573.9481\n",
            "Epoch 280/300\n",
            "34/34 [==============================] - 0s 2ms/step - loss: 22.1025 - mae: 22.1025 - mse: 638.3884 - val_loss: 21.6985 - val_mae: 21.6985 - val_mse: 595.8829\n",
            "Epoch 281/300\n",
            "34/34 [==============================] - 0s 2ms/step - loss: 22.2291 - mae: 22.2291 - mse: 655.1067 - val_loss: 23.9761 - val_mae: 23.9761 - val_mse: 933.9072\n",
            "Epoch 282/300\n",
            "34/34 [==============================] - 0s 2ms/step - loss: 22.1095 - mae: 22.1095 - mse: 678.8087 - val_loss: 21.0107 - val_mae: 21.0107 - val_mse: 564.2980\n",
            "Epoch 283/300\n",
            "34/34 [==============================] - 0s 2ms/step - loss: 21.9728 - mae: 21.9728 - mse: 635.2635 - val_loss: 22.8969 - val_mae: 22.8969 - val_mse: 775.5790\n",
            "Epoch 284/300\n",
            "34/34 [==============================] - 0s 2ms/step - loss: 22.0622 - mae: 22.0622 - mse: 661.6907 - val_loss: 21.8315 - val_mae: 21.8315 - val_mse: 655.7147\n",
            "Epoch 285/300\n",
            "34/34 [==============================] - 0s 2ms/step - loss: 21.4741 - mae: 21.4741 - mse: 596.5036 - val_loss: 21.9592 - val_mae: 21.9592 - val_mse: 611.2129\n",
            "Epoch 286/300\n",
            "34/34 [==============================] - 0s 2ms/step - loss: 21.8567 - mae: 21.8567 - mse: 627.9431 - val_loss: 20.9330 - val_mae: 20.9330 - val_mse: 557.7190\n",
            "Epoch 287/300\n",
            "34/34 [==============================] - 0s 2ms/step - loss: 21.7953 - mae: 21.7953 - mse: 642.4131 - val_loss: 21.1465 - val_mae: 21.1465 - val_mse: 563.4985\n",
            "Epoch 288/300\n",
            "34/34 [==============================] - 0s 2ms/step - loss: 22.1235 - mae: 22.1235 - mse: 672.0334 - val_loss: 21.2394 - val_mae: 21.2394 - val_mse: 599.8965\n",
            "Epoch 289/300\n",
            "34/34 [==============================] - 0s 2ms/step - loss: 21.6197 - mae: 21.6197 - mse: 599.5574 - val_loss: 21.6685 - val_mae: 21.6685 - val_mse: 644.0663\n",
            "Epoch 290/300\n",
            "34/34 [==============================] - 0s 2ms/step - loss: 21.7327 - mae: 21.7327 - mse: 614.1208 - val_loss: 20.8853 - val_mae: 20.8853 - val_mse: 552.7837\n",
            "Epoch 291/300\n",
            "34/34 [==============================] - 0s 2ms/step - loss: 21.6014 - mae: 21.6014 - mse: 619.4991 - val_loss: 25.8483 - val_mae: 25.8483 - val_mse: 1354.5427\n",
            "Epoch 292/300\n",
            "34/34 [==============================] - 0s 2ms/step - loss: 22.1263 - mae: 22.1263 - mse: 729.3503 - val_loss: 22.4702 - val_mae: 22.4702 - val_mse: 641.8241\n",
            "Epoch 293/300\n",
            "34/34 [==============================] - 0s 2ms/step - loss: 21.9739 - mae: 21.9739 - mse: 676.3159 - val_loss: 20.8872 - val_mae: 20.8872 - val_mse: 565.0698\n",
            "Epoch 294/300\n",
            "34/34 [==============================] - 0s 2ms/step - loss: 22.4430 - mae: 22.4430 - mse: 802.7416 - val_loss: 21.9246 - val_mae: 21.9246 - val_mse: 674.7714\n",
            "Epoch 295/300\n",
            "34/34 [==============================] - 0s 2ms/step - loss: 21.4378 - mae: 21.4378 - mse: 588.6022 - val_loss: 20.7909 - val_mae: 20.7909 - val_mse: 555.9040\n",
            "Epoch 296/300\n",
            "34/34 [==============================] - 0s 2ms/step - loss: 21.9850 - mae: 21.9850 - mse: 701.1517 - val_loss: 24.4809 - val_mae: 24.4809 - val_mse: 1064.4987\n",
            "Epoch 297/300\n",
            "34/34 [==============================] - 0s 2ms/step - loss: 22.2271 - mae: 22.2271 - mse: 782.5438 - val_loss: 20.8612 - val_mae: 20.8612 - val_mse: 568.2719\n",
            "Epoch 298/300\n",
            "34/34 [==============================] - 0s 2ms/step - loss: 21.6222 - mae: 21.6222 - mse: 632.2386 - val_loss: 24.8778 - val_mae: 24.8778 - val_mse: 1153.0286\n",
            "Epoch 299/300\n",
            "34/34 [==============================] - 0s 2ms/step - loss: 21.4228 - mae: 21.4228 - mse: 626.5176 - val_loss: 20.6993 - val_mae: 20.6993 - val_mse: 546.2356\n",
            "Epoch 300/300\n",
            "34/34 [==============================] - 0s 2ms/step - loss: 23.1246 - mae: 23.1246 - mse: 1009.6523 - val_loss: 20.9965 - val_mae: 20.9965 - val_mse: 557.1504\n"
          ],
          "name": "stdout"
        }
      ]
    },
    {
      "cell_type": "markdown",
      "metadata": {
        "id": "xvJMa3BJZyAV"
      },
      "source": [
        "#outcomes"
      ]
    },
    {
      "cell_type": "code",
      "metadata": {
        "colab": {
          "base_uri": "https://localhost:8080/"
        },
        "id": "P-nk0a9XZ6Lz",
        "outputId": "ea46d694-9d04-478d-faae-e9d3cad920b6"
      },
      "source": [
        "model.summary()"
      ],
      "execution_count": 60,
      "outputs": [
        {
          "output_type": "stream",
          "text": [
            "Model: \"sequential\"\n",
            "_________________________________________________________________\n",
            "Layer (type)                 Output Shape              Param #   \n",
            "=================================================================\n",
            "dense (Dense)                (None, 1)                 2         \n",
            "=================================================================\n",
            "Total params: 2\n",
            "Trainable params: 2\n",
            "Non-trainable params: 0\n",
            "_________________________________________________________________\n"
          ],
          "name": "stdout"
        }
      ]
    },
    {
      "cell_type": "code",
      "metadata": {
        "colab": {
          "base_uri": "https://localhost:8080/",
          "height": 1000
        },
        "id": "zCiTUPcuZnbH",
        "outputId": "1d66ff14-08fc-4ac5-e644-758e95054ce3"
      },
      "source": [
        "def plotGraphs(history, string): \n",
        "  plt.plot(history.history[string])\n",
        "  plt.plot(history.history[f'val_{string}'])\n",
        "  plt.xlabel('Num of Epochs')\n",
        "  plt.ylabel(string)\n",
        "  plt.legend([string, f'val_{string}'])\n",
        "  plt.show()\n",
        "\n",
        "plotGraphs(history, 'loss')\n",
        "plotGraphs(history, 'mae')\n",
        "plotGraphs(history, 'mse')\n"
      ],
      "execution_count": 61,
      "outputs": [
        {
          "output_type": "display_data",
          "data": {
            "image/png": "[encoded data removed]",
            "text/plain": [
              "<Figure size 576x396 with 1 Axes>"
            ]
          },
          "metadata": {
            "tags": []
          }
        },
        {
          "output_type": "display_data",
          "data": {
            "image/png": "[encoded data removed]",
            "text/plain": [
              "<Figure size 576x396 with 1 Axes>"
            ]
          },
          "metadata": {
            "tags": []
          }
        },
        {
          "output_type": "display_data",
          "data": {
            "image/png": "[encoded data removed]",
            "text/plain": [
              "<Figure size 576x396 with 1 Axes>"
            ]
          },
          "metadata": {
            "tags": []
          }
        }
      ]
    },
    {
      "cell_type": "code",
      "metadata": {
        "colab": {
          "base_uri": "https://localhost:8080/"
        },
        "id": "ulrrnrUHaSOx",
        "outputId": "83bd94e1-5ea5-482b-a5dd-582e1a21154a"
      },
      "source": [
        "model.predict([1])"
      ],
      "execution_count": 62,
      "outputs": [
        {
          "output_type": "execute_result",
          "data": {
            "text/plain": [
              "array([[6.036078]], dtype=float32)"
            ]
          },
          "metadata": {
            "tags": []
          },
          "execution_count": 62
        }
      ]
    },
    {
      "cell_type": "code",
      "metadata": {
        "colab": {
          "base_uri": "https://localhost:8080/"
        },
        "id": "F-jv434NaUGU",
        "outputId": "db96c17a-7269-4cc4-8dee-2baabe13d137"
      },
      "source": [
        "# testPreds = model.predict(testFeatures).flatten() #array of all prediction values\n",
        "\n",
        "#for single values\n",
        "\n",
        "print(f'Prediction for input value 1: {model.predict([1])}')\n",
        "\n",
        "\n",
        "# for a list of values\n",
        "tempListforPreds = [1,2,3,4,5]\n",
        "print(f'''\n",
        "\n",
        "input List = {tempListforPreds}\n",
        "\n",
        "\n",
        "List of Predictions:\n",
        "{model.predict(tempListforPreds)}\n",
        "\n",
        "List of Predictions (flattened out):\n",
        "{model.predict(tempListforPreds).flatten()}\n",
        "''')"
      ],
      "execution_count": 63,
      "outputs": [
        {
          "output_type": "stream",
          "text": [
            "Prediction for input value 1: [[6.036078]]\n",
            "\n",
            "\n",
            "input List = [1, 2, 3, 4, 5]\n",
            "\n",
            "\n",
            "List of Predictions:\n",
            "[[6.036078 ]\n",
            " [6.0373745]\n",
            " [6.0386705]\n",
            " [6.039967 ]\n",
            " [6.041263 ]]\n",
            "\n",
            "List of Predictions (flattened out):\n",
            "[6.036078  6.0373745 6.0386705 6.039967  6.041263 ]\n",
            "\n"
          ],
          "name": "stdout"
        }
      ]
    },
    {
      "cell_type": "code",
      "metadata": {
        "colab": {
          "base_uri": "https://localhost:8080/"
        },
        "id": "FmkeIXY9af7p",
        "outputId": "3ab5098c-7a05-4d90-aaec-69411b4351fb"
      },
      "source": [
        "print(testFeatures)"
      ],
      "execution_count": 64,
      "outputs": [
        {
          "output_type": "stream",
          "text": [
            "          charges\n",
            "11    27808.72510\n",
            "23    37701.87680\n",
            "24     6203.90175\n",
            "25    14001.13380\n",
            "28     2775.19215\n",
            "...           ...\n",
            "1305   2464.61880\n",
            "1315  11272.33139\n",
            "1318  19496.71917\n",
            "1326   7050.02130\n",
            "1333  10600.54830\n",
            "\n",
            "[268 rows x 1 columns]\n"
          ],
          "name": "stdout"
        }
      ]
    },
    {
      "cell_type": "code",
      "metadata": {
        "id": "ibyVWf_4as0U"
      },
      "source": [
        "testPreds = model.predict(testFeatures).flatten() #array of all prediction values"
      ],
      "execution_count": 65,
      "outputs": []
    },
    {
      "cell_type": "code",
      "metadata": {
        "colab": {
          "base_uri": "https://localhost:8080/"
        },
        "id": "VFnE5iofauL5",
        "outputId": "05ab5b53-2ff7-4cef-9c87-38058a396157"
      },
      "source": [
        "print(len(testPreds))\n",
        "print(testPreds)"
      ],
      "execution_count": 66,
      "outputs": [
        {
          "output_type": "stream",
          "text": [
            "268\n",
            "[42.08245   54.906666  14.076725  24.18406    9.632185  12.111442\n",
            " 23.884573  26.27243   12.451015  14.21913   50.501015  14.317154\n",
            " 28.93102   21.25525   21.520857  57.673744  62.524937  20.388628\n",
            " 20.21876   13.46113   67.336845  35.08767   26.542711   9.057064\n",
            " 21.436253  45.259964   8.245735  57.310757  48.46719   13.919232\n",
            " 22.647085   7.669954   8.843456  58.81969    8.423187  16.132267\n",
            " 12.552628  12.296592   9.559708  12.293059   9.736205  14.403336\n",
            " 21.247673  12.41622   17.07491   25.3512    17.534206  54.170414\n",
            " 33.235874  14.603281  10.620607  19.458508  19.729746   8.274462\n",
            " 14.733015  44.304832  62.96858   13.035921  18.501886   9.305495\n",
            " 18.629154   8.822374  18.262419  24.514685  10.14658   32.32033\n",
            " 27.161222  34.525124  11.415644  51.195435  21.027853   9.750015\n",
            " 17.888626  23.952894  30.605904  23.342733  16.555674  23.42432\n",
            " 52.81104   55.456764  13.613977  45.291916  10.1528    25.463865\n",
            "  9.570228  30.410854  35.95657   22.41732   39.87957   13.696972\n",
            " 15.772722   8.888002  26.198536  69.40321   16.6786     9.98091\n",
            " 20.88394   21.28283   33.362995  20.9194    17.474493  88.6986\n",
            " 19.297588  20.991713  11.1847725 11.022413  16.838676   8.169003\n",
            " 17.952497   9.267713  16.959852  13.435411  15.68099   49.42356\n",
            "  8.151651  10.647722  39.321465  14.553289  36.246403  50.908916\n",
            " 20.768147  15.333406  38.33146   22.820408  19.180452  24.693836\n",
            "  7.5078645 14.052639  15.397476  12.212843  43.8684    58.240376\n",
            " 18.403414  13.002293   8.274143   9.220373  21.890278  27.627712\n",
            " 31.133196  24.19195   18.458115  63.82966   10.004625  12.556675\n",
            " 16.38657   10.015385  21.386044  15.174332  42.254288  15.447973\n",
            " 15.6899395 13.727352  18.828741  18.2018     7.658242  12.152569\n",
            "  8.760945  56.320652   8.388651  42.94837    8.804763  10.325172\n",
            " 20.311548   9.719772   9.510021  15.316517  41.72622   64.378624\n",
            " 19.77738   54.347034  65.81043   14.590645  23.05432   13.76949\n",
            " 39.919796   9.386747  31.59687   41.31728    8.215885  21.518923\n",
            " 23.605755  25.699318  28.714754   9.455699  51.49423   12.8340225\n",
            " 38.87367   23.496609  14.121313  31.873962  11.903242  31.972708\n",
            " 60.47758   40.343338  15.780188   9.3115225  8.315363  16.151096\n",
            " 18.61467   17.218422  38.331684  17.440151  60.751892  23.855762\n",
            " 21.712513  32.264656  10.132886  38.842762   8.603451  15.167664\n",
            " 17.672953  13.497955  24.636095  24.149477   8.759889  13.625624\n",
            " 30.6941    20.681803  32.50544   17.68588   60.412407  37.37985\n",
            "  9.140774  13.415016  31.536776  16.345999  14.250652  59.10582\n",
            " 13.333386  15.404514  30.616209  11.906216  35.17316   20.415134\n",
            " 36.999687  17.275003  14.32263   14.070049  17.355423  29.65733\n",
            " 53.88097   55.83168   13.000123  36.578857   8.241627  20.043385\n",
            " 13.054951  14.581762  12.251257  21.880865  67.309364   7.644188\n",
            " 14.426863  20.690348  10.302795  12.188253   9.589092  35.151695\n",
            " 15.29985   15.282259  51.182186  87.172165  10.1942425  9.229598\n",
            " 20.646788  31.30783   15.173527  19.775974 ]\n"
          ],
          "name": "stdout"
        }
      ]
    },
    {
      "cell_type": "code",
      "metadata": {
        "colab": {
          "base_uri": "https://localhost:8080/",
          "height": 361
        },
        "id": "BUZ7x1lea4cd",
        "outputId": "cd8a11de-6ff1-4794-e95d-5e90efb13a88"
      },
      "source": [
        "def predPlot(labels, predictions):\n",
        "  plt.scatter(labels, predictions)\n",
        "  plt.ylabel('Predictions')\n",
        "  plt.xlabel('True Value or Labels')\n",
        "  plt.axis('equal')\n",
        "  plt.axis('square')\n",
        "  plt.xlim([0, plt.xlim()[1]])\n",
        "  plt.ylim([0, plt.ylim()[1]])\n",
        "  plt.show()\n",
        "\n",
        "predPlot(testLabels, testPreds)"
      ],
      "execution_count": 67,
      "outputs": [
        {
          "output_type": "display_data",
          "data": {
            "image/png": "[encoded data removed]",
            "text/plain": [
              "<Figure size 576x396 with 1 Axes>"
            ]
          },
          "metadata": {
            "tags": []
          }
        }
      ]
    },
    {
      "cell_type": "code",
      "metadata": {
        "colab": {
          "base_uri": "https://localhost:8080/",
          "height": 361
        },
        "id": "P_9IYubybAWE",
        "outputId": "3296abee-3d53-46f1-f523-d279651cf948"
      },
      "source": [
        "def predPlot(labels, predictions):\n",
        "  plt.scatter(labels, predictions)\n",
        "  plt.ylabel('Predictions')\n",
        "  plt.xlabel('True Value or Labels')\n",
        "  plt.axis('equal')\n",
        "  plt.axis('square')\n",
        "  plt.xlim([0, plt.xlim()[1]])\n",
        "  plt.ylim([0, plt.ylim()[1]])\n",
        "  plt.plot([-100, 100], [-100,100])\n",
        "  plt.show()\n",
        "\n",
        "predPlot(testLabels, testPreds)"
      ],
      "execution_count": 68,
      "outputs": [
        {
          "output_type": "display_data",
          "data": {
            "image/png": "[encoded data removed]",
            "text/plain": [
              "<Figure size 576x396 with 1 Axes>"
            ]
          },
          "metadata": {
            "tags": []
          }
        }
      ]
    },
    {
      "cell_type": "code",
      "metadata": {
        "colab": {
          "base_uri": "https://localhost:8080/",
          "height": 361
        },
        "id": "pfW7eNd6bHCg",
        "outputId": "ad1a7516-d202-4a86-f40a-b66c78ae448c"
      },
      "source": [
        "#error plot --> gaussian distribution \n",
        "\n",
        "def errorPlot(preds, labels, counts):\n",
        "  errors = preds - labels\n",
        "  plt.hist(errors, counts)\n",
        "  plt.xlabel('Error')\n",
        "  plt.ylabel('Counts')\n",
        "  plt.show()\n",
        "\n",
        "errorPlot(testPreds, testLabels, numEpochs)"
      ],
      "execution_count": 69,
      "outputs": [
        {
          "output_type": "display_data",
          "data": {
            "image/png": "[encoded data removed]",
            "text/plain": [
              "<Figure size 576x396 with 1 Axes>"
            ]
          },
          "metadata": {
            "tags": []
          }
        }
      ]
    }
  ]
}